{
  "cells": [
    {
      "cell_type": "markdown",
      "metadata": {
        "vscode": {
          "languageId": "raw"
        }
      },
      "source": [
        "# Neutronics CALPHAD Example Usage\n",
        "\n",
        "This notebook demonstrates how to use the `neutronics_calphad` package for tokamak neutronics simulations and alloy optimization.\n"
      ]
    },
    {
      "cell_type": "markdown",
      "metadata": {
        "vscode": {
          "languageId": "raw"
        }
      },
      "source": [
        "## Setup\n",
        "\n",
        "First, import the package and check that everything is working:\n"
      ]
    },
    {
      "cell_type": "code",
      "execution_count": 1,
      "metadata": {},
      "outputs": [
        {
          "name": "stdout",
          "output_type": "stream",
          "text": [
            "n-001_H_002.endf: Warning, LTT (3) for elastic scattering, using Legendre only\n",
            "n-006_C_012.endf: Warning, LTT (3) for elastic scattering, using Legendre only\n"
          ]
        },
        {
          "name": "stderr",
          "output_type": "stream",
          "text": [
            "/home/myless/.miniforge3/envs/neutronics_calphad/lib/python3.12/site-packages/tqdm/auto.py:21: TqdmWarning: IProgress not found. Please update jupyter and ipywidgets. See https://ipywidgets.readthedocs.io/en/stable/user_install.html\n",
            "  from .autonotebook import tqdm as notebook_tqdm\n"
          ]
        },
        {
          "name": "stdout",
          "output_type": "stream",
          "text": [
            "Package version: 0.1.0\n"
          ]
        },
        {
          "ename": "AttributeError",
          "evalue": "module 'neutronics_calphad' has no attribute 'ELMS'",
          "output_type": "error",
          "traceback": [
            "\u001b[31m---------------------------------------------------------------------------\u001b[39m",
            "\u001b[31mAttributeError\u001b[39m                            Traceback (most recent call last)",
            "\u001b[36mCell\u001b[39m\u001b[36m \u001b[39m\u001b[32mIn[1]\u001b[39m\u001b[32m, line 6\u001b[39m\n\u001b[32m      3\u001b[39m \u001b[38;5;28;01mimport\u001b[39;00m\u001b[38;5;250m \u001b[39m\u001b[34;01mmatplotlib\u001b[39;00m\u001b[34;01m.\u001b[39;00m\u001b[34;01mpyplot\u001b[39;00m\u001b[38;5;250m \u001b[39m\u001b[38;5;28;01mas\u001b[39;00m\u001b[38;5;250m \u001b[39m\u001b[34;01mplt\u001b[39;00m\n\u001b[32m      5\u001b[39m \u001b[38;5;28mprint\u001b[39m(\u001b[33mf\u001b[39m\u001b[33m\"\u001b[39m\u001b[33mPackage version: \u001b[39m\u001b[38;5;132;01m{\u001b[39;00mnc.__version__\u001b[38;5;132;01m}\u001b[39;00m\u001b[33m\"\u001b[39m)\n\u001b[32m----> \u001b[39m\u001b[32m6\u001b[39m \u001b[38;5;28mprint\u001b[39m(\u001b[33mf\u001b[39m\u001b[33m\"\u001b[39m\u001b[33mAvailable elements: \u001b[39m\u001b[38;5;132;01m{\u001b[39;00m\u001b[43mnc\u001b[49m\u001b[43m.\u001b[49m\u001b[43mELMS\u001b[49m\u001b[38;5;132;01m}\u001b[39;00m\u001b[33m\"\u001b[39m)\n",
            "\u001b[31mAttributeError\u001b[39m: module 'neutronics_calphad' has no attribute 'ELMS'"
          ]
        }
      ],
      "source": [
        "import neutronics_calphad as nc\n",
        "import numpy as np\n",
        "import matplotlib.pyplot as plt\n",
        "\n",
        "print(f\"Package version: {nc.__version__}\")\n",
        "print(f\"Available elements: {nc.ELMS}\")\n"
      ]
    },
    {
      "cell_type": "markdown",
      "metadata": {
        "vscode": {
          "languageId": "raw"
        }
      },
      "source": [
        "## 1. Create and Visualize Tokamak Geometry\n",
        "\n",
        "Let's create a tokamak model with a vanadium vacuum vessel:\n"
      ]
    },
    {
      "cell_type": "code",
      "execution_count": null,
      "metadata": {},
      "outputs": [],
      "source": [
        "# Create a model with vanadium vacuum vessel\n",
        "model = nc.create_model('V')\n",
        "\n",
        "print(\"Model created successfully!\")\n",
        "print(f\"Number of materials: {len(model.materials)}\")\n",
        "print(f\"Number of cells: {len(model.geometry.get_all_cells())}\")\n"
      ]
    },
    {
      "cell_type": "markdown",
      "metadata": {},
      "source": [
        "# Testbed for run_script"
      ]
    },
    {
      "cell_type": "markdown",
      "metadata": {},
      "source": [
        "## Define libraries"
      ]
    },
    {
      "cell_type": "code",
      "execution_count": 1,
      "metadata": {},
      "outputs": [
        {
          "name": "stdout",
          "output_type": "stream",
          "text": [
            "n-001_H_002.endf: Warning, LTT (3) for elastic scattering, using Legendre only\n",
            "n-006_C_012.endf: Warning, LTT (3) for elastic scattering, using Legendre only\n"
          ]
        },
        {
          "name": "stderr",
          "output_type": "stream",
          "text": [
            "/home/myless/.miniforge3/envs/neutronics_calphad/lib/python3.12/site-packages/tqdm/auto.py:21: TqdmWarning: IProgress not found. Please update jupyter and ipywidgets. See https://ipywidgets.readthedocs.io/en/stable/user_install.html\n",
            "  from .autonotebook import tqdm as notebook_tqdm\n"
          ]
        },
        {
          "name": "stdout",
          "output_type": "stream",
          "text": [
            "['__class__', '__contains__', '__delattr__', '__dict__', '__dir__', '__doc__', '__eq__', '__format__', '__ge__', '__getattribute__', '__getitem__', '__getstate__', '__gt__', '__hash__', '__init__', '__init_subclass__', '__le__', '__len__', '__lt__', '__module__', '__ne__', '__new__', '__reduce__', '__reduce_ex__', '__repr__', '__setattr__', '__sizeof__', '__str__', '__subclasshook__', '__weakref__', '_fission_yields', '_follow', '_xml_path', 'add_nuclide', 'export_to_xml', 'fission_yields', 'form_ext_source_term', 'form_matrix', 'form_rr_term', 'from_endf', 'from_xml', 'get_branch_ratios', 'get_default_fission_yields', 'nuclide_dict', 'nuclides', 'reactions', 'reduce', 'set_branch_ratios', 'stable_nuclides', 'unstable_nuclides', 'validate']\n",
            "['(n,gamma)', '(n,2n)', '(n,p)', '(n,d)', '(n,t)', '(n,a)', '(n,3n)', '(n,4n)', 'fission']\n"
          ]
        }
      ],
      "source": [
        "from neutronics_calphad.neutronics.config import SPHERICAL\n",
        "from neutronics_calphad.neutronics.geometry_maker import create_model\n",
        "import openmc\n",
        "import openmc.deplete\n",
        "import os\n",
        "\n",
        "openmc.config['chain_file'] = '/home/myless/nuclear_data/tendl21-fispact20-gefy61-chain.xml'\n",
        "openmc.config['cross_sections'] = '/home/myless/nuclear_data/tendl-2021-hdf5/cross_sections.xml'\n",
        "\n",
        "chain = openmc.deplete.Chain.from_xml(openmc.config['chain_file'])\n",
        "\n",
        "print(dir(chain))\n",
        "print(chain.reactions)\n",
        "\n",
        "\n",
        "\n",
        "# 1) Create a spherical geometry using the config file \n",
        "model = create_model(config=SPHERICAL)\n",
        "model.settings.particles = 100"
      ]
    },
    {
      "cell_type": "markdown",
      "metadata": {},
      "source": [
        "Right now the chain only supports:\n",
        "['(n,gamma)', '(n,2n)', '(n,p)', '(n,d)', '(n,t)', '(n,a)', '(n,3n)', '(n,4n)', 'fission']\n",
        "\n",
        "But we need:\n",
        "\n",
        "The default chain you have only does 7 reactions: (n,gamma), (n,2n), (n,p), (n,alpha), (n,3n), (n,4n), (n,fission) since it was designed for reactor physics. Just looking at the other reactions in the fispact collapse output we have things like (n,d), (n,t), (n,na), (n,2na), (n,3na), (n,t2a), and probably a few other crazy ones as well. \n",
        "\n",
        "I need:\n",
        "(n,na), (n,2na), (n,3na), and (n,t2a)"
      ]
    },
    {
      "cell_type": "code",
      "execution_count": 2,
      "metadata": {},
      "outputs": [
        {
          "name": "stdout",
          "output_type": "stream",
          "text": [
            "[Cell\n",
            "\tID             =\t1\n",
            "\tName           =\tcore\n",
            "\tFill           =\tNone\n",
            "\tRegion         =\t-1\n",
            "\tRotation       =\tNone\n",
            "\tTranslation    =\tNone\n",
            "\tVolume         =\tNone\n",
            ", Cell\n",
            "\tID             =\t2\n",
            "\tName           =\tfirst_wall\n",
            "\tFill           =\tMaterial 1\n",
            "\tRegion         =\t(-2 1)\n",
            "\tRotation       =\tNone\n",
            "\tTemperature    =\tNone\n",
            "\tTranslation    =\tNone\n",
            "\tVolume         =\tNone\n",
            ", Cell\n",
            "\tID             =\t3\n",
            "\tName           =\tvessel\n",
            "\tFill           =\tMaterial 3\n",
            "\tRegion         =\t(-3 2)\n",
            "\tRotation       =\tNone\n",
            "\tTemperature    =\tNone\n",
            "\tTranslation    =\tNone\n",
            "\tVolume         =\tNone\n",
            ", Cell\n",
            "\tID             =\t4\n",
            "\tName           =\tblanket\n",
            "\tFill           =\tMaterial 2\n",
            "\tRegion         =\t(-4 3)\n",
            "\tRotation       =\tNone\n",
            "\tTemperature    =\tNone\n",
            "\tTranslation    =\tNone\n",
            "\tVolume         =\tNone\n",
            ", Cell\n",
            "\tID             =\t5\n",
            "\tName           =\ttank\n",
            "\tFill           =\tMaterial 4\n",
            "\tRegion         =\t(-5 4)\n",
            "\tRotation       =\tNone\n",
            "\tTemperature    =\tNone\n",
            "\tTranslation    =\tNone\n",
            "\tVolume         =\tNone\n",
            ", Cell\n",
            "\tID             =\t6\n",
            "\tName           =\tshield\n",
            "\tFill           =\tMaterial 5\n",
            "\tRegion         =\t(-6 5)\n",
            "\tRotation       =\tNone\n",
            "\tTemperature    =\tNone\n",
            "\tTranslation    =\tNone\n",
            "\tVolume         =\tNone\n",
            ", Cell\n",
            "\tID             =\t7\n",
            "\tName           =\tvoid\n",
            "\tFill           =\tNone\n",
            "\tRegion         =\t(-7 6)\n",
            "\tRotation       =\tNone\n",
            "\tTranslation    =\tNone\n",
            "\tVolume         =\tNone\n",
            "]\n"
          ]
        }
      ],
      "source": [
        "all_cells = model.geometry.get_all_cells()\n",
        "cells_list = list(all_cells.values())\n",
        "print(cells_list)"
      ]
    },
    {
      "cell_type": "markdown",
      "metadata": {},
      "source": [
        "### Specify Tallies for Gas Production"
      ]
    },
    {
      "cell_type": "code",
      "execution_count": 3,
      "metadata": {},
      "outputs": [],
      "source": [
        "cell_filter = openmc.CellFilter(model.geometry.get_cells_by_name('vessel')[0])\n",
        "h1_tally = openmc.Tally(name='H1')\n",
        "h1_tally.filters = [cell_filter]\n",
        "h1_tally.scores = ['H1-production']\n",
        "\n"
      ]
    },
    {
      "cell_type": "markdown",
      "metadata": {},
      "source": [
        "### Run Get MicroXS and FLux"
      ]
    },
    {
      "cell_type": "code",
      "execution_count": 4,
      "metadata": {},
      "outputs": [
        {
          "name": "stdout",
          "output_type": "stream",
          "text": [
            "                                %%%%%%%%%%%%%%%\n",
            "                           %%%%%%%%%%%%%%%%%%%%%%%%\n",
            "                        %%%%%%%%%%%%%%%%%%%%%%%%%%%%%%\n",
            "                      %%%%%%%%%%%%%%%%%%%%%%%%%%%%%%%%%%\n",
            "                    %%%%%%%%%%%%%%%%%%%%%%%%%%%%%%%%%%%%%%\n",
            "                   %%%%%%%%%%%%%%%%%%%%%%%%%%%%%%%%%%%%%%%%\n",
            "                                    %%%%%%%%%%%%%%%%%%%%%%%%\n",
            "                                     %%%%%%%%%%%%%%%%%%%%%%%%\n",
            "                 ###############      %%%%%%%%%%%%%%%%%%%%%%%%\n",
            "                ##################     %%%%%%%%%%%%%%%%%%%%%%%\n",
            "                ###################     %%%%%%%%%%%%%%%%%%%%%%%\n",
            "                ####################     %%%%%%%%%%%%%%%%%%%%%%\n",
            "                #####################     %%%%%%%%%%%%%%%%%%%%%\n",
            "                ######################     %%%%%%%%%%%%%%%%%%%%\n",
            "                #######################     %%%%%%%%%%%%%%%%%%\n",
            "                 #######################     %%%%%%%%%%%%%%%%%\n",
            "                 ######################     %%%%%%%%%%%%%%%%%\n",
            "                  ####################     %%%%%%%%%%%%%%%%%\n",
            "                    #################     %%%%%%%%%%%%%%%%%\n",
            "                     ###############     %%%%%%%%%%%%%%%%\n",
            "                       ############     %%%%%%%%%%%%%%%\n",
            "                          ########     %%%%%%%%%%%%%%\n",
            "                                      %%%%%%%%%%%\n",
            "\n",
            "                 | The OpenMC Monte Carlo Code\n",
            "       Copyright | 2011-2025 MIT, UChicago Argonne LLC, and contributors\n",
            "         License | https://docs.openmc.org/en/latest/license.html\n",
            "         Version | 0.15.2\n",
            "     Commit Hash | e23760b0264c66fb7bb373aa0596801e5209d920\n",
            "       Date/Time | 2025-07-23 19:52:24\n",
            "   MPI Processes | 1\n",
            "  OpenMP Threads | 16\n",
            "\n",
            " Reading model XML file 'model.xml' ...\n",
            " Reading chain file:\n",
            " /home/myless/nuclear_data/tendl21-fispact20-gefy61-chain.xml...\n",
            " Reading cross sections XML file...\n",
            " Reading W180 from /home/myless/nuclear_data/tendl-2021-hdf5/W180.h5\n",
            " Reading W182 from /home/myless/nuclear_data/tendl-2021-hdf5/W182.h5\n",
            " Reading W183 from /home/myless/nuclear_data/tendl-2021-hdf5/W183.h5\n",
            " Reading W184 from /home/myless/nuclear_data/tendl-2021-hdf5/W184.h5\n",
            " Reading W186 from /home/myless/nuclear_data/tendl-2021-hdf5/W186.h5\n",
            " Reading Li6 from /home/myless/nuclear_data/tendl-2021-hdf5/Li6.h5\n",
            " Reading Li7 from /home/myless/nuclear_data/tendl-2021-hdf5/Li7.h5\n",
            " Reading F19 from /home/myless/nuclear_data/tendl-2021-hdf5/F19.h5\n",
            " Reading Be9 from /home/myless/nuclear_data/tendl-2021-hdf5/Be9.h5\n",
            " Reading V50 from /home/myless/nuclear_data/tendl-2021-hdf5/V50.h5\n",
            " Reading V51 from /home/myless/nuclear_data/tendl-2021-hdf5/V51.h5\n",
            " Reading Cr50 from /home/myless/nuclear_data/tendl-2021-hdf5/Cr50.h5\n",
            " Reading Cr52 from /home/myless/nuclear_data/tendl-2021-hdf5/Cr52.h5\n",
            " Reading Cr53 from /home/myless/nuclear_data/tendl-2021-hdf5/Cr53.h5\n",
            " Reading Cr54 from /home/myless/nuclear_data/tendl-2021-hdf5/Cr54.h5\n",
            " Reading Ti46 from /home/myless/nuclear_data/tendl-2021-hdf5/Ti46.h5\n",
            " Reading Ti47 from /home/myless/nuclear_data/tendl-2021-hdf5/Ti47.h5\n",
            " Reading Ti48 from /home/myless/nuclear_data/tendl-2021-hdf5/Ti48.h5\n",
            " Reading Ti49 from /home/myless/nuclear_data/tendl-2021-hdf5/Ti49.h5\n",
            " Reading Ti50 from /home/myless/nuclear_data/tendl-2021-hdf5/Ti50.h5\n",
            " Reading Zr90 from /home/myless/nuclear_data/tendl-2021-hdf5/Zr90.h5\n",
            " Reading Zr91 from /home/myless/nuclear_data/tendl-2021-hdf5/Zr91.h5\n",
            " Reading Zr92 from /home/myless/nuclear_data/tendl-2021-hdf5/Zr92.h5\n",
            " Reading Zr94 from /home/myless/nuclear_data/tendl-2021-hdf5/Zr94.h5\n",
            " Reading Zr96 from /home/myless/nuclear_data/tendl-2021-hdf5/Zr96.h5\n",
            " Reading Fe54 from /home/myless/nuclear_data/tendl-2021-hdf5/Fe54.h5\n",
            " Reading Fe56 from /home/myless/nuclear_data/tendl-2021-hdf5/Fe56.h5\n",
            " Reading Fe57 from /home/myless/nuclear_data/tendl-2021-hdf5/Fe57.h5\n",
            " Reading Fe58 from /home/myless/nuclear_data/tendl-2021-hdf5/Fe58.h5\n",
            " Reading Mn55 from /home/myless/nuclear_data/tendl-2021-hdf5/Mn55.h5\n",
            " Reading Si28 from /home/myless/nuclear_data/tendl-2021-hdf5/Si28.h5\n",
            " Reading Si29 from /home/myless/nuclear_data/tendl-2021-hdf5/Si29.h5\n",
            " Reading Si30 from /home/myless/nuclear_data/tendl-2021-hdf5/Si30.h5\n",
            " Reading Ni58 from /home/myless/nuclear_data/tendl-2021-hdf5/Ni58.h5\n",
            " Reading Ni60 from /home/myless/nuclear_data/tendl-2021-hdf5/Ni60.h5\n",
            " Reading Ni61 from /home/myless/nuclear_data/tendl-2021-hdf5/Ni61.h5\n",
            " Reading Ni62 from /home/myless/nuclear_data/tendl-2021-hdf5/Ni62.h5\n",
            " Reading Ni64 from /home/myless/nuclear_data/tendl-2021-hdf5/Ni64.h5\n",
            " Reading Mo92 from /home/myless/nuclear_data/tendl-2021-hdf5/Mo92.h5\n",
            " Reading Mo94 from /home/myless/nuclear_data/tendl-2021-hdf5/Mo94.h5\n",
            " Reading Mo95 from /home/myless/nuclear_data/tendl-2021-hdf5/Mo95.h5\n",
            " Reading Mo96 from /home/myless/nuclear_data/tendl-2021-hdf5/Mo96.h5\n",
            " Reading Mo97 from /home/myless/nuclear_data/tendl-2021-hdf5/Mo97.h5\n",
            " Reading Mo98 from /home/myless/nuclear_data/tendl-2021-hdf5/Mo98.h5\n",
            " Reading Mo100 from /home/myless/nuclear_data/tendl-2021-hdf5/Mo100.h5\n",
            " Reading B10 from /home/myless/nuclear_data/tendl-2021-hdf5/B10.h5\n",
            " Reading B11 from /home/myless/nuclear_data/tendl-2021-hdf5/B11.h5\n",
            " Reading C12 from /home/myless/nuclear_data/tendl-2021-hdf5/C12.h5\n",
            " Reading C13 from /home/myless/nuclear_data/tendl-2021-hdf5/C13.h5\n",
            " Minimum neutron data temperature: 294 K\n",
            " Maximum neutron data temperature: 294 K\n",
            " Reading H1 from /home/myless/nuclear_data/tendl-2021-hdf5/H1.h5\n",
            " Reading H2 from /home/myless/nuclear_data/tendl-2021-hdf5/H2.h5\n",
            " Reading H3 from /home/myless/nuclear_data/tendl-2021-hdf5/H3.h5\n",
            " Reading He3 from /home/myless/nuclear_data/tendl-2021-hdf5/He3.h5\n",
            " Reading He4 from /home/myless/nuclear_data/tendl-2021-hdf5/He4.h5\n",
            " Reading Be7 from /home/myless/nuclear_data/tendl-2021-hdf5/Be7.h5\n",
            " Reading N14 from /home/myless/nuclear_data/tendl-2021-hdf5/N14.h5\n",
            " Reading N15 from /home/myless/nuclear_data/tendl-2021-hdf5/N15.h5\n",
            " Reading O16 from /home/myless/nuclear_data/tendl-2021-hdf5/O16.h5\n",
            " Reading O17 from /home/myless/nuclear_data/tendl-2021-hdf5/O17.h5\n",
            " Reading O18 from /home/myless/nuclear_data/tendl-2021-hdf5/O18.h5\n",
            " Reading Ne20 from /home/myless/nuclear_data/tendl-2021-hdf5/Ne20.h5\n",
            " Reading Ne21 from /home/myless/nuclear_data/tendl-2021-hdf5/Ne21.h5\n",
            " Reading Ne22 from /home/myless/nuclear_data/tendl-2021-hdf5/Ne22.h5\n",
            " Reading Na22 from /home/myless/nuclear_data/tendl-2021-hdf5/Na22.h5\n",
            " Reading Na23 from /home/myless/nuclear_data/tendl-2021-hdf5/Na23.h5\n",
            " Reading Mg24 from /home/myless/nuclear_data/tendl-2021-hdf5/Mg24.h5\n",
            " Reading Mg25 from /home/myless/nuclear_data/tendl-2021-hdf5/Mg25.h5\n",
            " Reading Mg26 from /home/myless/nuclear_data/tendl-2021-hdf5/Mg26.h5\n",
            " Reading Mg27 from /home/myless/nuclear_data/tendl-2021-hdf5/Mg27.h5\n",
            " Reading Al26 from /home/myless/nuclear_data/tendl-2021-hdf5/Al26.h5\n",
            " Reading Al26_m1 from /home/myless/nuclear_data/tendl-2021-hdf5/Al26_m1.h5\n",
            " Reading Al27 from /home/myless/nuclear_data/tendl-2021-hdf5/Al27.h5\n",
            " Reading Si31 from /home/myless/nuclear_data/tendl-2021-hdf5/Si31.h5\n",
            " Reading Si32 from /home/myless/nuclear_data/tendl-2021-hdf5/Si32.h5\n",
            " Reading P31 from /home/myless/nuclear_data/tendl-2021-hdf5/P31.h5\n",
            " Reading P32 from /home/myless/nuclear_data/tendl-2021-hdf5/P32.h5\n",
            " Reading P33 from /home/myless/nuclear_data/tendl-2021-hdf5/P33.h5\n",
            " Reading S32 from /home/myless/nuclear_data/tendl-2021-hdf5/S32.h5\n",
            " Reading S33 from /home/myless/nuclear_data/tendl-2021-hdf5/S33.h5\n",
            " Reading S34 from /home/myless/nuclear_data/tendl-2021-hdf5/S34.h5\n",
            " Reading S35 from /home/myless/nuclear_data/tendl-2021-hdf5/S35.h5\n",
            " Reading S36 from /home/myless/nuclear_data/tendl-2021-hdf5/S36.h5\n",
            " Reading Cl35 from /home/myless/nuclear_data/tendl-2021-hdf5/Cl35.h5\n",
            " Reading Cl36 from /home/myless/nuclear_data/tendl-2021-hdf5/Cl36.h5\n",
            " Reading Cl37 from /home/myless/nuclear_data/tendl-2021-hdf5/Cl37.h5\n",
            " Reading Ar36 from /home/myless/nuclear_data/tendl-2021-hdf5/Ar36.h5\n",
            " Reading Ar37 from /home/myless/nuclear_data/tendl-2021-hdf5/Ar37.h5\n",
            " Reading Ar38 from /home/myless/nuclear_data/tendl-2021-hdf5/Ar38.h5\n",
            " Reading Ar39 from /home/myless/nuclear_data/tendl-2021-hdf5/Ar39.h5\n",
            " Reading Ar40 from /home/myless/nuclear_data/tendl-2021-hdf5/Ar40.h5\n",
            " Reading Ar41 from /home/myless/nuclear_data/tendl-2021-hdf5/Ar41.h5\n",
            " Reading K39 from /home/myless/nuclear_data/tendl-2021-hdf5/K39.h5\n",
            " Reading K40 from /home/myless/nuclear_data/tendl-2021-hdf5/K40.h5\n",
            " Reading K41 from /home/myless/nuclear_data/tendl-2021-hdf5/K41.h5\n",
            " Reading Ca40 from /home/myless/nuclear_data/tendl-2021-hdf5/Ca40.h5\n",
            " Reading Ca41 from /home/myless/nuclear_data/tendl-2021-hdf5/Ca41.h5\n",
            " Reading Ca42 from /home/myless/nuclear_data/tendl-2021-hdf5/Ca42.h5\n",
            " Reading Ca43 from /home/myless/nuclear_data/tendl-2021-hdf5/Ca43.h5\n",
            " Reading Ca44 from /home/myless/nuclear_data/tendl-2021-hdf5/Ca44.h5\n",
            " Reading Ca45 from /home/myless/nuclear_data/tendl-2021-hdf5/Ca45.h5\n",
            " Reading Ca46 from /home/myless/nuclear_data/tendl-2021-hdf5/Ca46.h5\n",
            " Reading Ca47 from /home/myless/nuclear_data/tendl-2021-hdf5/Ca47.h5\n",
            " Reading Ca48 from /home/myless/nuclear_data/tendl-2021-hdf5/Ca48.h5\n",
            " Reading Sc44 from /home/myless/nuclear_data/tendl-2021-hdf5/Sc44.h5\n",
            " Reading Sc45 from /home/myless/nuclear_data/tendl-2021-hdf5/Sc45.h5\n",
            " Reading Sc46 from /home/myless/nuclear_data/tendl-2021-hdf5/Sc46.h5\n",
            " Reading Sc47 from /home/myless/nuclear_data/tendl-2021-hdf5/Sc47.h5\n",
            " Reading Sc48 from /home/myless/nuclear_data/tendl-2021-hdf5/Sc48.h5\n",
            " Reading Ti44 from /home/myless/nuclear_data/tendl-2021-hdf5/Ti44.h5\n",
            " Reading V48 from /home/myless/nuclear_data/tendl-2021-hdf5/V48.h5\n",
            " Reading V49 from /home/myless/nuclear_data/tendl-2021-hdf5/V49.h5\n",
            " Reading Cr51 from /home/myless/nuclear_data/tendl-2021-hdf5/Cr51.h5\n",
            " Reading Mn52 from /home/myless/nuclear_data/tendl-2021-hdf5/Mn52.h5\n",
            " Reading Mn53 from /home/myless/nuclear_data/tendl-2021-hdf5/Mn53.h5\n",
            " Reading Mn54 from /home/myless/nuclear_data/tendl-2021-hdf5/Mn54.h5\n",
            " Reading Fe55 from /home/myless/nuclear_data/tendl-2021-hdf5/Fe55.h5\n",
            " Reading Fe59 from /home/myless/nuclear_data/tendl-2021-hdf5/Fe59.h5\n",
            " Reading Fe60 from /home/myless/nuclear_data/tendl-2021-hdf5/Fe60.h5\n",
            " Reading Co56 from /home/myless/nuclear_data/tendl-2021-hdf5/Co56.h5\n",
            " Reading Co57 from /home/myless/nuclear_data/tendl-2021-hdf5/Co57.h5\n",
            " Reading Co58 from /home/myless/nuclear_data/tendl-2021-hdf5/Co58.h5\n",
            " Reading Co58_m1 from /home/myless/nuclear_data/tendl-2021-hdf5/Co58_m1.h5\n",
            " Reading Co59 from /home/myless/nuclear_data/tendl-2021-hdf5/Co59.h5\n",
            " Reading Co60 from /home/myless/nuclear_data/tendl-2021-hdf5/Co60.h5\n",
            " Reading Co62_m1 from /home/myless/nuclear_data/tendl-2021-hdf5/Co62_m1.h5\n",
            " Reading Ni56 from /home/myless/nuclear_data/tendl-2021-hdf5/Ni56.h5\n",
            " Reading Ni57 from /home/myless/nuclear_data/tendl-2021-hdf5/Ni57.h5\n",
            " Reading Ni59 from /home/myless/nuclear_data/tendl-2021-hdf5/Ni59.h5\n",
            " Reading Ni63 from /home/myless/nuclear_data/tendl-2021-hdf5/Ni63.h5\n",
            " Reading Ni66 from /home/myless/nuclear_data/tendl-2021-hdf5/Ni66.h5\n",
            " Reading Cu63 from /home/myless/nuclear_data/tendl-2021-hdf5/Cu63.h5\n",
            " Reading Cu64 from /home/myless/nuclear_data/tendl-2021-hdf5/Cu64.h5\n",
            " Reading Cu65 from /home/myless/nuclear_data/tendl-2021-hdf5/Cu65.h5\n",
            " Reading Cu66 from /home/myless/nuclear_data/tendl-2021-hdf5/Cu66.h5\n",
            " Reading Cu67 from /home/myless/nuclear_data/tendl-2021-hdf5/Cu67.h5\n",
            " Reading Zn64 from /home/myless/nuclear_data/tendl-2021-hdf5/Zn64.h5\n",
            " Reading Zn65 from /home/myless/nuclear_data/tendl-2021-hdf5/Zn65.h5\n",
            " Reading Zn66 from /home/myless/nuclear_data/tendl-2021-hdf5/Zn66.h5\n",
            " Reading Zn67 from /home/myless/nuclear_data/tendl-2021-hdf5/Zn67.h5\n",
            " Reading Zn68 from /home/myless/nuclear_data/tendl-2021-hdf5/Zn68.h5\n",
            " Reading Zn69 from /home/myless/nuclear_data/tendl-2021-hdf5/Zn69.h5\n",
            " Reading Zn70 from /home/myless/nuclear_data/tendl-2021-hdf5/Zn70.h5\n",
            " Reading Ga67 from /home/myless/nuclear_data/tendl-2021-hdf5/Ga67.h5\n",
            " Reading Ga69 from /home/myless/nuclear_data/tendl-2021-hdf5/Ga69.h5\n",
            " Reading Ga70 from /home/myless/nuclear_data/tendl-2021-hdf5/Ga70.h5\n",
            " Reading Ga71 from /home/myless/nuclear_data/tendl-2021-hdf5/Ga71.h5\n",
            " Reading Ge70 from /home/myless/nuclear_data/tendl-2021-hdf5/Ge70.h5\n",
            " Reading Ge71 from /home/myless/nuclear_data/tendl-2021-hdf5/Ge71.h5\n",
            " Reading Ge72 from /home/myless/nuclear_data/tendl-2021-hdf5/Ge72.h5\n",
            " Reading Ge73 from /home/myless/nuclear_data/tendl-2021-hdf5/Ge73.h5\n",
            " Reading Ge74 from /home/myless/nuclear_data/tendl-2021-hdf5/Ge74.h5\n",
            " Reading Ge75 from /home/myless/nuclear_data/tendl-2021-hdf5/Ge75.h5\n",
            " Reading Ge76 from /home/myless/nuclear_data/tendl-2021-hdf5/Ge76.h5\n",
            " Reading As71 from /home/myless/nuclear_data/tendl-2021-hdf5/As71.h5\n",
            " Reading As72 from /home/myless/nuclear_data/tendl-2021-hdf5/As72.h5\n",
            " Reading As73 from /home/myless/nuclear_data/tendl-2021-hdf5/As73.h5\n",
            " Reading As74 from /home/myless/nuclear_data/tendl-2021-hdf5/As74.h5\n",
            " Reading As75 from /home/myless/nuclear_data/tendl-2021-hdf5/As75.h5\n",
            " Reading As76 from /home/myless/nuclear_data/tendl-2021-hdf5/As76.h5\n",
            " Reading As77 from /home/myless/nuclear_data/tendl-2021-hdf5/As77.h5\n",
            " Reading Se74 from /home/myless/nuclear_data/tendl-2021-hdf5/Se74.h5\n",
            " Reading Se75 from /home/myless/nuclear_data/tendl-2021-hdf5/Se75.h5\n",
            " Reading Se76 from /home/myless/nuclear_data/tendl-2021-hdf5/Se76.h5\n",
            " Reading Se77 from /home/myless/nuclear_data/tendl-2021-hdf5/Se77.h5\n",
            " Reading Se78 from /home/myless/nuclear_data/tendl-2021-hdf5/Se78.h5\n",
            " Reading Se79 from /home/myless/nuclear_data/tendl-2021-hdf5/Se79.h5\n",
            " Reading Se80 from /home/myless/nuclear_data/tendl-2021-hdf5/Se80.h5\n",
            " Reading Se81 from /home/myless/nuclear_data/tendl-2021-hdf5/Se81.h5\n",
            " Reading Se82 from /home/myless/nuclear_data/tendl-2021-hdf5/Se82.h5\n",
            " Reading Br77 from /home/myless/nuclear_data/tendl-2021-hdf5/Br77.h5\n",
            " Reading Br79 from /home/myless/nuclear_data/tendl-2021-hdf5/Br79.h5\n",
            " Reading Br80 from /home/myless/nuclear_data/tendl-2021-hdf5/Br80.h5\n",
            " Reading Br81 from /home/myless/nuclear_data/tendl-2021-hdf5/Br81.h5\n",
            " Reading Br82 from /home/myless/nuclear_data/tendl-2021-hdf5/Br82.h5\n",
            " Reading Kr78 from /home/myless/nuclear_data/tendl-2021-hdf5/Kr78.h5\n",
            " Reading Kr79 from /home/myless/nuclear_data/tendl-2021-hdf5/Kr79.h5\n",
            " Reading Kr80 from /home/myless/nuclear_data/tendl-2021-hdf5/Kr80.h5\n",
            " Reading Kr81 from /home/myless/nuclear_data/tendl-2021-hdf5/Kr81.h5\n",
            " Reading Kr82 from /home/myless/nuclear_data/tendl-2021-hdf5/Kr82.h5\n",
            " Reading Kr83 from /home/myless/nuclear_data/tendl-2021-hdf5/Kr83.h5\n",
            " Reading Kr84 from /home/myless/nuclear_data/tendl-2021-hdf5/Kr84.h5\n",
            " Reading Kr85 from /home/myless/nuclear_data/tendl-2021-hdf5/Kr85.h5\n",
            " Reading Kr86 from /home/myless/nuclear_data/tendl-2021-hdf5/Kr86.h5\n",
            " Reading Rb85 from /home/myless/nuclear_data/tendl-2021-hdf5/Rb85.h5\n",
            " Reading Rb86 from /home/myless/nuclear_data/tendl-2021-hdf5/Rb86.h5\n",
            " Reading Rb87 from /home/myless/nuclear_data/tendl-2021-hdf5/Rb87.h5\n",
            " Reading Rb88 from /home/myless/nuclear_data/tendl-2021-hdf5/Rb88.h5\n",
            " Reading Sr83 from /home/myless/nuclear_data/tendl-2021-hdf5/Sr83.h5\n",
            " Reading Sr84 from /home/myless/nuclear_data/tendl-2021-hdf5/Sr84.h5\n",
            " Reading Sr85 from /home/myless/nuclear_data/tendl-2021-hdf5/Sr85.h5\n",
            " Reading Sr86 from /home/myless/nuclear_data/tendl-2021-hdf5/Sr86.h5\n",
            " Reading Sr87 from /home/myless/nuclear_data/tendl-2021-hdf5/Sr87.h5\n",
            " Reading Sr88 from /home/myless/nuclear_data/tendl-2021-hdf5/Sr88.h5\n",
            " Reading Sr89 from /home/myless/nuclear_data/tendl-2021-hdf5/Sr89.h5\n",
            " Reading Sr90 from /home/myless/nuclear_data/tendl-2021-hdf5/Sr90.h5\n",
            " Reading Y87 from /home/myless/nuclear_data/tendl-2021-hdf5/Y87.h5\n",
            " Reading Y88 from /home/myless/nuclear_data/tendl-2021-hdf5/Y88.h5\n",
            " Reading Y89 from /home/myless/nuclear_data/tendl-2021-hdf5/Y89.h5\n",
            " Reading Y90 from /home/myless/nuclear_data/tendl-2021-hdf5/Y90.h5\n",
            " Reading Y91 from /home/myless/nuclear_data/tendl-2021-hdf5/Y91.h5\n",
            " Reading Zr88 from /home/myless/nuclear_data/tendl-2021-hdf5/Zr88.h5\n",
            " Reading Zr89 from /home/myless/nuclear_data/tendl-2021-hdf5/Zr89.h5\n",
            " Reading Zr93 from /home/myless/nuclear_data/tendl-2021-hdf5/Zr93.h5\n",
            " Reading Zr95 from /home/myless/nuclear_data/tendl-2021-hdf5/Zr95.h5\n",
            " Reading Nb91 from /home/myless/nuclear_data/tendl-2021-hdf5/Nb91.h5\n",
            " Reading Nb92 from /home/myless/nuclear_data/tendl-2021-hdf5/Nb92.h5\n",
            " Reading Nb93 from /home/myless/nuclear_data/tendl-2021-hdf5/Nb93.h5\n",
            " Reading Nb94 from /home/myless/nuclear_data/tendl-2021-hdf5/Nb94.h5\n",
            " Reading Nb94_m1 from /home/myless/nuclear_data/tendl-2021-hdf5/Nb94_m1.h5\n",
            " Reading Nb95 from /home/myless/nuclear_data/tendl-2021-hdf5/Nb95.h5\n",
            " Reading Mo93 from /home/myless/nuclear_data/tendl-2021-hdf5/Mo93.h5\n",
            " Reading Mo99 from /home/myless/nuclear_data/tendl-2021-hdf5/Mo99.h5\n",
            " Reading Tc96 from /home/myless/nuclear_data/tendl-2021-hdf5/Tc96.h5\n",
            " Reading Tc97 from /home/myless/nuclear_data/tendl-2021-hdf5/Tc97.h5\n",
            " Reading Tc98 from /home/myless/nuclear_data/tendl-2021-hdf5/Tc98.h5\n",
            " Reading Tc99 from /home/myless/nuclear_data/tendl-2021-hdf5/Tc99.h5\n",
            " Reading Ru96 from /home/myless/nuclear_data/tendl-2021-hdf5/Ru96.h5\n",
            " Reading Ru97 from /home/myless/nuclear_data/tendl-2021-hdf5/Ru97.h5\n",
            " Reading Ru98 from /home/myless/nuclear_data/tendl-2021-hdf5/Ru98.h5\n",
            " Reading Ru99 from /home/myless/nuclear_data/tendl-2021-hdf5/Ru99.h5\n",
            " Reading Ru100 from /home/myless/nuclear_data/tendl-2021-hdf5/Ru100.h5\n",
            " Reading Ru101 from /home/myless/nuclear_data/tendl-2021-hdf5/Ru101.h5\n",
            " Reading Ru102 from /home/myless/nuclear_data/tendl-2021-hdf5/Ru102.h5\n",
            " Reading Ru103 from /home/myless/nuclear_data/tendl-2021-hdf5/Ru103.h5\n",
            " Reading Ru104 from /home/myless/nuclear_data/tendl-2021-hdf5/Ru104.h5\n",
            " Reading Ru105 from /home/myless/nuclear_data/tendl-2021-hdf5/Ru105.h5\n",
            " Reading Ru106 from /home/myless/nuclear_data/tendl-2021-hdf5/Ru106.h5\n",
            " Reading Rh99 from /home/myless/nuclear_data/tendl-2021-hdf5/Rh99.h5\n",
            " Reading Rh101 from /home/myless/nuclear_data/tendl-2021-hdf5/Rh101.h5\n",
            " Reading Rh102 from /home/myless/nuclear_data/tendl-2021-hdf5/Rh102.h5\n",
            " Reading Rh103 from /home/myless/nuclear_data/tendl-2021-hdf5/Rh103.h5\n",
            " Reading Rh104 from /home/myless/nuclear_data/tendl-2021-hdf5/Rh104.h5\n",
            " Reading Rh105 from /home/myless/nuclear_data/tendl-2021-hdf5/Rh105.h5\n",
            " Reading Pd102 from /home/myless/nuclear_data/tendl-2021-hdf5/Pd102.h5\n",
            " Reading Pd103 from /home/myless/nuclear_data/tendl-2021-hdf5/Pd103.h5\n",
            " Reading Pd104 from /home/myless/nuclear_data/tendl-2021-hdf5/Pd104.h5\n",
            " Reading Pd105 from /home/myless/nuclear_data/tendl-2021-hdf5/Pd105.h5\n",
            " Reading Pd106 from /home/myless/nuclear_data/tendl-2021-hdf5/Pd106.h5\n",
            " Reading Pd107 from /home/myless/nuclear_data/tendl-2021-hdf5/Pd107.h5\n",
            " Reading Pd108 from /home/myless/nuclear_data/tendl-2021-hdf5/Pd108.h5\n",
            " Reading Pd109 from /home/myless/nuclear_data/tendl-2021-hdf5/Pd109.h5\n",
            " Reading Pd110 from /home/myless/nuclear_data/tendl-2021-hdf5/Pd110.h5\n",
            " Reading Ag106_m1 from /home/myless/nuclear_data/tendl-2021-hdf5/Ag106_m1.h5\n",
            " Reading Ag107 from /home/myless/nuclear_data/tendl-2021-hdf5/Ag107.h5\n",
            " Reading Ag108 from /home/myless/nuclear_data/tendl-2021-hdf5/Ag108.h5\n",
            " Reading Ag109 from /home/myless/nuclear_data/tendl-2021-hdf5/Ag109.h5\n",
            " Reading Ag110 from /home/myless/nuclear_data/tendl-2021-hdf5/Ag110.h5\n",
            " Reading Ag110_m1 from /home/myless/nuclear_data/tendl-2021-hdf5/Ag110_m1.h5\n",
            " Reading Ag111 from /home/myless/nuclear_data/tendl-2021-hdf5/Ag111.h5\n",
            " Reading Ag112 from /home/myless/nuclear_data/tendl-2021-hdf5/Ag112.h5\n",
            " Reading Ag113 from /home/myless/nuclear_data/tendl-2021-hdf5/Ag113.h5\n",
            " Reading Ag114 from /home/myless/nuclear_data/tendl-2021-hdf5/Ag114.h5\n",
            " Reading Ag115 from /home/myless/nuclear_data/tendl-2021-hdf5/Ag115.h5\n",
            " Reading Ag116 from /home/myless/nuclear_data/tendl-2021-hdf5/Ag116.h5\n",
            " Reading Ag117 from /home/myless/nuclear_data/tendl-2021-hdf5/Ag117.h5\n",
            " Reading Ag118_m1 from /home/myless/nuclear_data/tendl-2021-hdf5/Ag118_m1.h5\n",
            " Reading Cd106 from /home/myless/nuclear_data/tendl-2021-hdf5/Cd106.h5\n",
            " Reading Cd107 from /home/myless/nuclear_data/tendl-2021-hdf5/Cd107.h5\n",
            " Reading Cd108 from /home/myless/nuclear_data/tendl-2021-hdf5/Cd108.h5\n",
            " Reading Cd109 from /home/myless/nuclear_data/tendl-2021-hdf5/Cd109.h5\n",
            " Reading Cd110 from /home/myless/nuclear_data/tendl-2021-hdf5/Cd110.h5\n",
            " Reading Cd111 from /home/myless/nuclear_data/tendl-2021-hdf5/Cd111.h5\n",
            " Reading Cd112 from /home/myless/nuclear_data/tendl-2021-hdf5/Cd112.h5\n",
            " Reading Cd113 from /home/myless/nuclear_data/tendl-2021-hdf5/Cd113.h5\n",
            " Reading Cd114 from /home/myless/nuclear_data/tendl-2021-hdf5/Cd114.h5\n",
            " Reading Cd115_m1 from /home/myless/nuclear_data/tendl-2021-hdf5/Cd115_m1.h5\n",
            " Reading Cd116 from /home/myless/nuclear_data/tendl-2021-hdf5/Cd116.h5\n",
            " Reading In113 from /home/myless/nuclear_data/tendl-2021-hdf5/In113.h5\n",
            " Reading In114 from /home/myless/nuclear_data/tendl-2021-hdf5/In114.h5\n",
            " Reading In115 from /home/myless/nuclear_data/tendl-2021-hdf5/In115.h5\n",
            " Reading Sn112 from /home/myless/nuclear_data/tendl-2021-hdf5/Sn112.h5\n",
            " Reading Sn113 from /home/myless/nuclear_data/tendl-2021-hdf5/Sn113.h5\n",
            " Reading Sn114 from /home/myless/nuclear_data/tendl-2021-hdf5/Sn114.h5\n",
            " Reading Sn115 from /home/myless/nuclear_data/tendl-2021-hdf5/Sn115.h5\n",
            " Reading Sn116 from /home/myless/nuclear_data/tendl-2021-hdf5/Sn116.h5\n",
            " Reading Sn117 from /home/myless/nuclear_data/tendl-2021-hdf5/Sn117.h5\n",
            " Reading Sn118 from /home/myless/nuclear_data/tendl-2021-hdf5/Sn118.h5\n",
            " Reading Sn119 from /home/myless/nuclear_data/tendl-2021-hdf5/Sn119.h5\n",
            " Reading Sn120 from /home/myless/nuclear_data/tendl-2021-hdf5/Sn120.h5\n",
            " Reading Sn121 from /home/myless/nuclear_data/tendl-2021-hdf5/Sn121.h5\n",
            " Reading Sn121_m1 from /home/myless/nuclear_data/tendl-2021-hdf5/Sn121_m1.h5\n",
            " Reading Sn122 from /home/myless/nuclear_data/tendl-2021-hdf5/Sn122.h5\n",
            " Reading Sn123 from /home/myless/nuclear_data/tendl-2021-hdf5/Sn123.h5\n",
            " Reading Sn124 from /home/myless/nuclear_data/tendl-2021-hdf5/Sn124.h5\n",
            " Reading Sn125 from /home/myless/nuclear_data/tendl-2021-hdf5/Sn125.h5\n",
            " Reading Sn126 from /home/myless/nuclear_data/tendl-2021-hdf5/Sn126.h5\n",
            " Reading Sb121 from /home/myless/nuclear_data/tendl-2021-hdf5/Sb121.h5\n",
            " Reading Sb122 from /home/myless/nuclear_data/tendl-2021-hdf5/Sb122.h5\n",
            " Reading Sb123 from /home/myless/nuclear_data/tendl-2021-hdf5/Sb123.h5\n",
            " Reading Sb124 from /home/myless/nuclear_data/tendl-2021-hdf5/Sb124.h5\n",
            " Reading Sb125 from /home/myless/nuclear_data/tendl-2021-hdf5/Sb125.h5\n",
            " Reading Sb126 from /home/myless/nuclear_data/tendl-2021-hdf5/Sb126.h5\n",
            " Reading Sb127 from /home/myless/nuclear_data/tendl-2021-hdf5/Sb127.h5\n",
            " Reading Te120 from /home/myless/nuclear_data/tendl-2021-hdf5/Te120.h5\n",
            " Reading Te121 from /home/myless/nuclear_data/tendl-2021-hdf5/Te121.h5\n",
            " Reading Te121_m1 from /home/myless/nuclear_data/tendl-2021-hdf5/Te121_m1.h5\n",
            " Reading Te122 from /home/myless/nuclear_data/tendl-2021-hdf5/Te122.h5\n",
            " Reading Te123 from /home/myless/nuclear_data/tendl-2021-hdf5/Te123.h5\n",
            " Reading Te124 from /home/myless/nuclear_data/tendl-2021-hdf5/Te124.h5\n",
            " Reading Te125 from /home/myless/nuclear_data/tendl-2021-hdf5/Te125.h5\n",
            " Reading Te126 from /home/myless/nuclear_data/tendl-2021-hdf5/Te126.h5\n",
            " Reading Te127_m1 from /home/myless/nuclear_data/tendl-2021-hdf5/Te127_m1.h5\n",
            " Reading Te128 from /home/myless/nuclear_data/tendl-2021-hdf5/Te128.h5\n",
            " Reading Te129_m1 from /home/myless/nuclear_data/tendl-2021-hdf5/Te129_m1.h5\n",
            " Reading Te130 from /home/myless/nuclear_data/tendl-2021-hdf5/Te130.h5\n",
            " Reading Te131 from /home/myless/nuclear_data/tendl-2021-hdf5/Te131.h5\n",
            " Reading Te131_m1 from /home/myless/nuclear_data/tendl-2021-hdf5/Te131_m1.h5\n",
            " Reading Te132 from /home/myless/nuclear_data/tendl-2021-hdf5/Te132.h5\n",
            " Reading I126 from /home/myless/nuclear_data/tendl-2021-hdf5/I126.h5\n",
            " Reading I127 from /home/myless/nuclear_data/tendl-2021-hdf5/I127.h5\n",
            " Reading I128 from /home/myless/nuclear_data/tendl-2021-hdf5/I128.h5\n",
            " Reading I129 from /home/myless/nuclear_data/tendl-2021-hdf5/I129.h5\n",
            " Reading I130 from /home/myless/nuclear_data/tendl-2021-hdf5/I130.h5\n",
            " Reading I131 from /home/myless/nuclear_data/tendl-2021-hdf5/I131.h5\n",
            " Reading I132 from /home/myless/nuclear_data/tendl-2021-hdf5/I132.h5\n",
            " Reading I132_m1 from /home/myless/nuclear_data/tendl-2021-hdf5/I132_m1.h5\n",
            " Reading I133 from /home/myless/nuclear_data/tendl-2021-hdf5/I133.h5\n",
            " Reading I134 from /home/myless/nuclear_data/tendl-2021-hdf5/I134.h5\n",
            " Reading I135 from /home/myless/nuclear_data/tendl-2021-hdf5/I135.h5\n",
            " Reading Xe123 from /home/myless/nuclear_data/tendl-2021-hdf5/Xe123.h5\n",
            " Reading Xe124 from /home/myless/nuclear_data/tendl-2021-hdf5/Xe124.h5\n",
            " Reading Xe125 from /home/myless/nuclear_data/tendl-2021-hdf5/Xe125.h5\n",
            " Reading Xe126 from /home/myless/nuclear_data/tendl-2021-hdf5/Xe126.h5\n",
            " Reading Xe127 from /home/myless/nuclear_data/tendl-2021-hdf5/Xe127.h5\n",
            " Reading Xe128 from /home/myless/nuclear_data/tendl-2021-hdf5/Xe128.h5\n",
            " Reading Xe129 from /home/myless/nuclear_data/tendl-2021-hdf5/Xe129.h5\n",
            " Reading Xe130 from /home/myless/nuclear_data/tendl-2021-hdf5/Xe130.h5\n",
            " Reading Xe131 from /home/myless/nuclear_data/tendl-2021-hdf5/Xe131.h5\n",
            " Reading Xe132 from /home/myless/nuclear_data/tendl-2021-hdf5/Xe132.h5\n",
            " Reading Xe133 from /home/myless/nuclear_data/tendl-2021-hdf5/Xe133.h5\n",
            " Reading Xe134 from /home/myless/nuclear_data/tendl-2021-hdf5/Xe134.h5\n",
            " Reading Xe135 from /home/myless/nuclear_data/tendl-2021-hdf5/Xe135.h5\n",
            " Reading Xe135_m1 from /home/myless/nuclear_data/tendl-2021-hdf5/Xe135_m1.h5\n",
            " Reading Xe136 from /home/myless/nuclear_data/tendl-2021-hdf5/Xe136.h5\n",
            " Reading Cs133 from /home/myless/nuclear_data/tendl-2021-hdf5/Cs133.h5\n",
            " Reading Cs134 from /home/myless/nuclear_data/tendl-2021-hdf5/Cs134.h5\n",
            " Reading Cs135 from /home/myless/nuclear_data/tendl-2021-hdf5/Cs135.h5\n",
            " Reading Cs136 from /home/myless/nuclear_data/tendl-2021-hdf5/Cs136.h5\n",
            " Reading Cs137 from /home/myless/nuclear_data/tendl-2021-hdf5/Cs137.h5\n",
            " Reading Ba130 from /home/myless/nuclear_data/tendl-2021-hdf5/Ba130.h5\n",
            " Reading Ba131 from /home/myless/nuclear_data/tendl-2021-hdf5/Ba131.h5\n",
            " Reading Ba132 from /home/myless/nuclear_data/tendl-2021-hdf5/Ba132.h5\n",
            " Reading Ba133 from /home/myless/nuclear_data/tendl-2021-hdf5/Ba133.h5\n",
            " Reading Ba134 from /home/myless/nuclear_data/tendl-2021-hdf5/Ba134.h5\n",
            " Reading Ba135 from /home/myless/nuclear_data/tendl-2021-hdf5/Ba135.h5\n",
            " Reading Ba136 from /home/myless/nuclear_data/tendl-2021-hdf5/Ba136.h5\n",
            " Reading Ba137 from /home/myless/nuclear_data/tendl-2021-hdf5/Ba137.h5\n",
            " Reading Ba138 from /home/myless/nuclear_data/tendl-2021-hdf5/Ba138.h5\n",
            " Reading Ba139 from /home/myless/nuclear_data/tendl-2021-hdf5/Ba139.h5\n",
            " Reading Ba140 from /home/myless/nuclear_data/tendl-2021-hdf5/Ba140.h5\n",
            " Reading La137 from /home/myless/nuclear_data/tendl-2021-hdf5/La137.h5\n",
            " Reading La138 from /home/myless/nuclear_data/tendl-2021-hdf5/La138.h5\n",
            " Reading La139 from /home/myless/nuclear_data/tendl-2021-hdf5/La139.h5\n",
            " Reading La140 from /home/myless/nuclear_data/tendl-2021-hdf5/La140.h5\n",
            " Reading Ce136 from /home/myless/nuclear_data/tendl-2021-hdf5/Ce136.h5\n",
            " Reading Ce137 from /home/myless/nuclear_data/tendl-2021-hdf5/Ce137.h5\n",
            " Reading Ce137_m1 from /home/myless/nuclear_data/tendl-2021-hdf5/Ce137_m1.h5\n",
            " Reading Ce138 from /home/myless/nuclear_data/tendl-2021-hdf5/Ce138.h5\n",
            " Reading Ce139 from /home/myless/nuclear_data/tendl-2021-hdf5/Ce139.h5\n",
            " Reading Ce140 from /home/myless/nuclear_data/tendl-2021-hdf5/Ce140.h5\n",
            " Reading Ce141 from /home/myless/nuclear_data/tendl-2021-hdf5/Ce141.h5\n",
            " Reading Ce142 from /home/myless/nuclear_data/tendl-2021-hdf5/Ce142.h5\n",
            " Reading Ce143 from /home/myless/nuclear_data/tendl-2021-hdf5/Ce143.h5\n",
            " Reading Ce144 from /home/myless/nuclear_data/tendl-2021-hdf5/Ce144.h5\n",
            " Reading Pr141 from /home/myless/nuclear_data/tendl-2021-hdf5/Pr141.h5\n",
            " Reading Pr142 from /home/myless/nuclear_data/tendl-2021-hdf5/Pr142.h5\n",
            " Reading Pr143 from /home/myless/nuclear_data/tendl-2021-hdf5/Pr143.h5\n",
            " Reading Nd142 from /home/myless/nuclear_data/tendl-2021-hdf5/Nd142.h5\n",
            " Reading Nd143 from /home/myless/nuclear_data/tendl-2021-hdf5/Nd143.h5\n",
            " Reading Nd144 from /home/myless/nuclear_data/tendl-2021-hdf5/Nd144.h5\n",
            " Reading Nd145 from /home/myless/nuclear_data/tendl-2021-hdf5/Nd145.h5\n",
            " Reading Nd146 from /home/myless/nuclear_data/tendl-2021-hdf5/Nd146.h5\n",
            " Reading Nd147 from /home/myless/nuclear_data/tendl-2021-hdf5/Nd147.h5\n",
            " Reading Nd148 from /home/myless/nuclear_data/tendl-2021-hdf5/Nd148.h5\n",
            " Reading Nd149 from /home/myless/nuclear_data/tendl-2021-hdf5/Nd149.h5\n",
            " Reading Nd150 from /home/myless/nuclear_data/tendl-2021-hdf5/Nd150.h5\n",
            " Reading Pm143 from /home/myless/nuclear_data/tendl-2021-hdf5/Pm143.h5\n",
            " Reading Pm144 from /home/myless/nuclear_data/tendl-2021-hdf5/Pm144.h5\n",
            " Reading Pm145 from /home/myless/nuclear_data/tendl-2021-hdf5/Pm145.h5\n",
            " Reading Pm146 from /home/myless/nuclear_data/tendl-2021-hdf5/Pm146.h5\n",
            " Reading Pm147 from /home/myless/nuclear_data/tendl-2021-hdf5/Pm147.h5\n",
            " Reading Pm148 from /home/myless/nuclear_data/tendl-2021-hdf5/Pm148.h5\n",
            " Reading Pm148_m1 from /home/myless/nuclear_data/tendl-2021-hdf5/Pm148_m1.h5\n",
            " Reading Pm149 from /home/myless/nuclear_data/tendl-2021-hdf5/Pm149.h5\n",
            " Reading Pm150 from /home/myless/nuclear_data/tendl-2021-hdf5/Pm150.h5\n",
            " Reading Pm151 from /home/myless/nuclear_data/tendl-2021-hdf5/Pm151.h5\n",
            " Reading Sm144 from /home/myless/nuclear_data/tendl-2021-hdf5/Sm144.h5\n",
            " Reading Sm145 from /home/myless/nuclear_data/tendl-2021-hdf5/Sm145.h5\n",
            " Reading Sm146 from /home/myless/nuclear_data/tendl-2021-hdf5/Sm146.h5\n",
            " Reading Sm147 from /home/myless/nuclear_data/tendl-2021-hdf5/Sm147.h5\n",
            " Reading Sm148 from /home/myless/nuclear_data/tendl-2021-hdf5/Sm148.h5\n",
            " Reading Sm149 from /home/myless/nuclear_data/tendl-2021-hdf5/Sm149.h5\n",
            " Reading Sm150 from /home/myless/nuclear_data/tendl-2021-hdf5/Sm150.h5\n",
            " Reading Sm151 from /home/myless/nuclear_data/tendl-2021-hdf5/Sm151.h5\n",
            " Reading Sm152 from /home/myless/nuclear_data/tendl-2021-hdf5/Sm152.h5\n",
            " Reading Sm153 from /home/myless/nuclear_data/tendl-2021-hdf5/Sm153.h5\n",
            " Reading Sm154 from /home/myless/nuclear_data/tendl-2021-hdf5/Sm154.h5\n",
            " Reading Eu151 from /home/myless/nuclear_data/tendl-2021-hdf5/Eu151.h5\n",
            " Reading Eu152 from /home/myless/nuclear_data/tendl-2021-hdf5/Eu152.h5\n",
            " Reading Eu152_m1 from /home/myless/nuclear_data/tendl-2021-hdf5/Eu152_m1.h5\n",
            " Reading Eu153 from /home/myless/nuclear_data/tendl-2021-hdf5/Eu153.h5\n",
            " Reading Eu154 from /home/myless/nuclear_data/tendl-2021-hdf5/Eu154.h5\n",
            " Reading Eu155 from /home/myless/nuclear_data/tendl-2021-hdf5/Eu155.h5\n",
            " Reading Eu156 from /home/myless/nuclear_data/tendl-2021-hdf5/Eu156.h5\n",
            " Reading Eu157 from /home/myless/nuclear_data/tendl-2021-hdf5/Eu157.h5\n",
            " Reading Gd148 from /home/myless/nuclear_data/tendl-2021-hdf5/Gd148.h5\n",
            " Reading Gd149 from /home/myless/nuclear_data/tendl-2021-hdf5/Gd149.h5\n"
          ]
        },
        {
          "ename": "KeyboardInterrupt",
          "evalue": "",
          "output_type": "error",
          "traceback": [
            "\u001b[31m---------------------------------------------------------------------------\u001b[39m",
            "\u001b[31mKeyboardInterrupt\u001b[39m                         Traceback (most recent call last)",
            "\u001b[36mCell\u001b[39m\u001b[36m \u001b[39m\u001b[32mIn[4]\u001b[39m\u001b[32m, line 2\u001b[39m\n\u001b[32m      1\u001b[39m \u001b[38;5;66;03m# 2) run get_microxs_and_flux to get the microxs and flux\u001b[39;00m\n\u001b[32m----> \u001b[39m\u001b[32m2\u001b[39m flux, microxs = \u001b[43mopenmc\u001b[49m\u001b[43m.\u001b[49m\u001b[43mdeplete\u001b[49m\u001b[43m.\u001b[49m\u001b[43mget_microxs_and_flux\u001b[49m\u001b[43m(\u001b[49m\u001b[43mmodel\u001b[49m\u001b[43m,\u001b[49m\n\u001b[32m      3\u001b[39m \u001b[43m                                                    \u001b[49m\u001b[43mcells_list\u001b[49m\u001b[43m,\u001b[49m\n\u001b[32m      4\u001b[39m \u001b[43m                                                    \u001b[49m\u001b[43menergies\u001b[49m\u001b[43m=\u001b[49m\u001b[33;43m'\u001b[39;49m\u001b[33;43mUKAEA-1102\u001b[39;49m\u001b[33;43m'\u001b[39;49m\u001b[43m,\u001b[49m\n\u001b[32m      5\u001b[39m \u001b[43m                                                    \u001b[49m\u001b[43mchain_file\u001b[49m\u001b[43m=\u001b[49m\u001b[43mopenmc\u001b[49m\u001b[43m.\u001b[49m\u001b[43mconfig\u001b[49m\u001b[43m[\u001b[49m\u001b[33;43m'\u001b[39;49m\u001b[33;43mchain_file\u001b[39;49m\u001b[33;43m'\u001b[39;49m\u001b[43m]\u001b[49m\u001b[43m,\u001b[49m\n\u001b[32m      6\u001b[39m \u001b[43m                                                    \u001b[49m\u001b[43mrun_kwargs\u001b[49m\u001b[43m=\u001b[49m\u001b[43m{\u001b[49m\u001b[33;43m'\u001b[39;49m\u001b[33;43mcwd\u001b[39;49m\u001b[33;43m'\u001b[39;49m\u001b[43m:\u001b[49m\u001b[43m \u001b[49m\u001b[33;43m'\u001b[39;49m\u001b[33;43mmicroxs_and_flux\u001b[39;49m\u001b[33;43m'\u001b[39;49m\u001b[43m}\u001b[49m\u001b[43m,\u001b[49m\n\u001b[32m      7\u001b[39m \u001b[43m                                                    \u001b[49m\u001b[43mpath_statepoint\u001b[49m\u001b[43m=\u001b[49m\u001b[43mos\u001b[49m\u001b[43m.\u001b[49m\u001b[43mpath\u001b[49m\u001b[43m.\u001b[49m\u001b[43mjoin\u001b[49m\u001b[43m(\u001b[49m\u001b[33;43m'\u001b[39;49m\u001b[33;43mmicroxs_and_flux\u001b[39;49m\u001b[33;43m'\u001b[39;49m\u001b[43m,\u001b[49m\u001b[43m \u001b[49m\u001b[33;43m'\u001b[39;49m\u001b[33;43mmicroxs_statepoint.10.h5\u001b[39;49m\u001b[33;43m'\u001b[39;49m\u001b[43m)\u001b[49m\u001b[43m)\u001b[49m\n",
            "\u001b[36mFile \u001b[39m\u001b[32m~/.miniforge3/envs/neutronics_calphad/lib/python3.12/site-packages/openmc/deplete/microxs.py:173\u001b[39m, in \u001b[36mget_microxs_and_flux\u001b[39m\u001b[34m(model, domains, nuclides, reactions, energies, reaction_rate_mode, chain_file, path_statepoint, run_kwargs)\u001b[39m\n\u001b[32m    171\u001b[39m     run_kwargs = \u001b[38;5;28mdict\u001b[39m(run_kwargs)\n\u001b[32m    172\u001b[39m run_kwargs.setdefault(\u001b[33m'\u001b[39m\u001b[33mcwd\u001b[39m\u001b[33m'\u001b[39m, temp_dir)\n\u001b[32m--> \u001b[39m\u001b[32m173\u001b[39m statepoint_path = \u001b[43mmodel\u001b[49m\u001b[43m.\u001b[49m\u001b[43mrun\u001b[49m\u001b[43m(\u001b[49m\u001b[43m*\u001b[49m\u001b[43m*\u001b[49m\u001b[43mrun_kwargs\u001b[49m\u001b[43m)\u001b[49m\n\u001b[32m    175\u001b[39m \u001b[38;5;28;01mif\u001b[39;00m comm.rank == \u001b[32m0\u001b[39m:\n\u001b[32m    176\u001b[39m     \u001b[38;5;66;03m# Move the statepoint file if it is being saved to a specific path\u001b[39;00m\n\u001b[32m    177\u001b[39m     \u001b[38;5;28;01mif\u001b[39;00m path_statepoint \u001b[38;5;129;01mis\u001b[39;00m \u001b[38;5;129;01mnot\u001b[39;00m \u001b[38;5;28;01mNone\u001b[39;00m:\n",
            "\u001b[36mFile \u001b[39m\u001b[32m~/.miniforge3/envs/neutronics_calphad/lib/python3.12/site-packages/openmc/model/model.py:788\u001b[39m, in \u001b[36mModel.run\u001b[39m\u001b[34m(self, particles, threads, geometry_debug, restart_file, tracks, output, cwd, openmc_exec, mpi_args, event_based, export_model_xml, apply_tally_results, **export_kwargs)\u001b[39m\n\u001b[32m    786\u001b[39m         \u001b[38;5;28mself\u001b[39m.export_to_xml(**export_kwargs)\n\u001b[32m    787\u001b[39m     path_input = export_kwargs.get(\u001b[33m\"\u001b[39m\u001b[33mpath\u001b[39m\u001b[33m\"\u001b[39m, \u001b[38;5;28;01mNone\u001b[39;00m)\n\u001b[32m--> \u001b[39m\u001b[32m788\u001b[39m     \u001b[43mopenmc\u001b[49m\u001b[43m.\u001b[49m\u001b[43mrun\u001b[49m\u001b[43m(\u001b[49m\u001b[43mparticles\u001b[49m\u001b[43m,\u001b[49m\u001b[43m \u001b[49m\u001b[43mthreads\u001b[49m\u001b[43m,\u001b[49m\u001b[43m \u001b[49m\u001b[43mgeometry_debug\u001b[49m\u001b[43m,\u001b[49m\u001b[43m \u001b[49m\u001b[43mrestart_file\u001b[49m\u001b[43m,\u001b[49m\n\u001b[32m    789\u001b[39m \u001b[43m               \u001b[49m\u001b[43mtracks\u001b[49m\u001b[43m,\u001b[49m\u001b[43m \u001b[49m\u001b[43moutput\u001b[49m\u001b[43m,\u001b[49m\u001b[43m \u001b[49m\u001b[43mPath\u001b[49m\u001b[43m(\u001b[49m\u001b[33;43m'\u001b[39;49m\u001b[33;43m.\u001b[39;49m\u001b[33;43m'\u001b[39;49m\u001b[43m)\u001b[49m\u001b[43m,\u001b[49m\u001b[43m \u001b[49m\u001b[43mopenmc_exec\u001b[49m\u001b[43m,\u001b[49m\u001b[43m \u001b[49m\u001b[43mmpi_args\u001b[49m\u001b[43m,\u001b[49m\n\u001b[32m    790\u001b[39m \u001b[43m               \u001b[49m\u001b[43mevent_based\u001b[49m\u001b[43m,\u001b[49m\u001b[43m \u001b[49m\u001b[43mpath_input\u001b[49m\u001b[43m)\u001b[49m\n\u001b[32m    792\u001b[39m \u001b[38;5;66;03m# Get output directory and return the last statepoint written\u001b[39;00m\n\u001b[32m    793\u001b[39m \u001b[38;5;28;01mif\u001b[39;00m \u001b[38;5;28mself\u001b[39m.settings.output \u001b[38;5;129;01mand\u001b[39;00m \u001b[33m'\u001b[39m\u001b[33mpath\u001b[39m\u001b[33m'\u001b[39m \u001b[38;5;129;01min\u001b[39;00m \u001b[38;5;28mself\u001b[39m.settings.output:\n",
            "\u001b[36mFile \u001b[39m\u001b[32m~/.miniforge3/envs/neutronics_calphad/lib/python3.12/site-packages/openmc/executor.py:314\u001b[39m, in \u001b[36mrun\u001b[39m\u001b[34m(particles, threads, geometry_debug, restart_file, tracks, output, cwd, openmc_exec, mpi_args, event_based, path_input)\u001b[39m\n\u001b[32m    261\u001b[39m \u001b[38;5;250m\u001b[39m\u001b[33;03m\"\"\"Run an OpenMC simulation.\u001b[39;00m\n\u001b[32m    262\u001b[39m \n\u001b[32m    263\u001b[39m \u001b[33;03mParameters\u001b[39;00m\n\u001b[32m   (...)\u001b[39m\u001b[32m    305\u001b[39m \n\u001b[32m    306\u001b[39m \u001b[33;03m\"\"\"\u001b[39;00m\n\u001b[32m    308\u001b[39m args = _process_CLI_arguments(\n\u001b[32m    309\u001b[39m     volume=\u001b[38;5;28;01mFalse\u001b[39;00m, geometry_debug=geometry_debug, particles=particles,\n\u001b[32m    310\u001b[39m     restart_file=restart_file, threads=threads, tracks=tracks,\n\u001b[32m    311\u001b[39m     event_based=event_based, openmc_exec=openmc_exec, mpi_args=mpi_args,\n\u001b[32m    312\u001b[39m     path_input=path_input)\n\u001b[32m--> \u001b[39m\u001b[32m314\u001b[39m \u001b[43m_run\u001b[49m\u001b[43m(\u001b[49m\u001b[43margs\u001b[49m\u001b[43m,\u001b[49m\u001b[43m \u001b[49m\u001b[43moutput\u001b[49m\u001b[43m,\u001b[49m\u001b[43m \u001b[49m\u001b[43mcwd\u001b[49m\u001b[43m)\u001b[49m\n",
            "\u001b[36mFile \u001b[39m\u001b[32m~/.miniforge3/envs/neutronics_calphad/lib/python3.12/site-packages/openmc/executor.py:104\u001b[39m, in \u001b[36m_run\u001b[39m\u001b[34m(args, output, cwd)\u001b[39m\n\u001b[32m    101\u001b[39m lines = []\n\u001b[32m    102\u001b[39m \u001b[38;5;28;01mwhile\u001b[39;00m \u001b[38;5;28;01mTrue\u001b[39;00m:\n\u001b[32m    103\u001b[39m     \u001b[38;5;66;03m# If OpenMC is finished, break loop\u001b[39;00m\n\u001b[32m--> \u001b[39m\u001b[32m104\u001b[39m     line = \u001b[43mp\u001b[49m\u001b[43m.\u001b[49m\u001b[43mstdout\u001b[49m\u001b[43m.\u001b[49m\u001b[43mreadline\u001b[49m\u001b[43m(\u001b[49m\u001b[43m)\u001b[49m\n\u001b[32m    105\u001b[39m     \u001b[38;5;28;01mif\u001b[39;00m \u001b[38;5;129;01mnot\u001b[39;00m line \u001b[38;5;129;01mand\u001b[39;00m p.poll() \u001b[38;5;129;01mis\u001b[39;00m \u001b[38;5;129;01mnot\u001b[39;00m \u001b[38;5;28;01mNone\u001b[39;00m:\n\u001b[32m    106\u001b[39m         \u001b[38;5;28;01mbreak\u001b[39;00m\n",
            "\u001b[31mKeyboardInterrupt\u001b[39m: "
          ]
        }
      ],
      "source": [
        "# 2) run get_microxs_and_flux to get the microxs and flux\n",
        "flux, microxs = openmc.deplete.get_microxs_and_flux(model,\n",
        "                                                    cells_list,\n",
        "                                                    energies='UKAEA-1102',\n",
        "                                                    chain_file=openmc.config['chain_file'],\n",
        "                                                    run_kwargs={'cwd': 'microxs_and_flux'},\n",
        "                                                    path_statepoint=os.path.join('microxs_and_flux', 'microxs_statepoint.10.h5'))"
      ]
    },
    {
      "cell_type": "markdown",
      "metadata": {},
      "source": [
        "## 3 Replace the material at the vv with a candidate material"
      ]
    },
    {
      "cell_type": "code",
      "execution_count": null,
      "metadata": {},
      "outputs": [
        {
          "name": "stdout",
          "output_type": "stream",
          "text": [
            "V-2Cr-4Ti-3W-1Zr\n"
          ]
        },
        {
          "ename": "NameError",
          "evalue": "name 'openmc' is not defined",
          "output_type": "error",
          "traceback": [
            "\u001b[31m---------------------------------------------------------------------------\u001b[39m",
            "\u001b[31mNameError\u001b[39m                                 Traceback (most recent call last)",
            "\u001b[36mCell\u001b[39m\u001b[36m \u001b[39m\u001b[32mIn[3]\u001b[39m\u001b[32m, line 42\u001b[39m\n\u001b[32m     38\u001b[39m     new_material.name = material_name\n\u001b[32m     40\u001b[39m     \u001b[38;5;28;01mreturn\u001b[39;00m new_material\n\u001b[32m---> \u001b[39m\u001b[32m42\u001b[39m new_material = \u001b[43mcreate_material\u001b[49m\u001b[43m(\u001b[49m\u001b[43mtest_material\u001b[49m\u001b[43m,\u001b[49m\u001b[43m \u001b[49m\u001b[43mmaterial_name\u001b[49m\u001b[43m)\u001b[49m\n\u001b[32m     43\u001b[39m \u001b[38;5;28mprint\u001b[39m(new_material)\n",
            "\u001b[36mCell\u001b[39m\u001b[36m \u001b[39m\u001b[32mIn[3]\u001b[39m\u001b[32m, line 34\u001b[39m, in \u001b[36mcreate_material\u001b[39m\u001b[34m(comp_dict, material_name, bal_element, density, percent_type)\u001b[39m\n\u001b[32m     33\u001b[39m \u001b[38;5;28;01mdef\u001b[39;00m\u001b[38;5;250m \u001b[39m\u001b[34mcreate_material\u001b[39m(comp_dict, material_name, bal_element = \u001b[33m'\u001b[39m\u001b[33mV\u001b[39m\u001b[33m'\u001b[39m, density = \u001b[32m6.11\u001b[39m, percent_type = \u001b[33m'\u001b[39m\u001b[33mao\u001b[39m\u001b[33m'\u001b[39m):\n\u001b[32m---> \u001b[39m\u001b[32m34\u001b[39m     new_material = \u001b[43mopenmc\u001b[49m.Material()\n\u001b[32m     35\u001b[39m     new_material.set_density(\u001b[33m'\u001b[39m\u001b[33mg/cm3\u001b[39m\u001b[33m'\u001b[39m, density)\n\u001b[32m     36\u001b[39m     \u001b[38;5;28;01mfor\u001b[39;00m element, percent \u001b[38;5;129;01min\u001b[39;00m comp_dict.items():\n",
            "\u001b[31mNameError\u001b[39m: name 'openmc' is not defined"
          ]
        }
      ],
      "source": [
        "# create a new material or list of materials \n",
        "\n",
        "from typing import Dict\n",
        "\n",
        "def material_string(comp_dict: Dict[str, float], bal_element: str) -> str:\n",
        "    \"\"\"Generate a material string of the form 'bal_element-2Cr-4Ti-3W-1Zr'.\n",
        "\n",
        "    Args:\n",
        "        comp_dict (Dict[str, float]): Dictionary of element fractions.\n",
        "        bal_element (str): The balance element to use as prefix.\n",
        "\n",
        "    Returns:\n",
        "        str: Formatted material string.\n",
        "    \"\"\"\n",
        "    parts = []\n",
        "    for element, value in comp_dict.items():\n",
        "        if element != bal_element:\n",
        "            parts.append(f\"{int(round(value * 100))}{element}\")\n",
        "    return f\"{bal_element}-\" + \"-\".join(parts)\n",
        "\n",
        "test_material = {\n",
        "    'V': 0.9,\n",
        "    'Cr': 0.02,\n",
        "    'Ti': 0.04,\n",
        "    'W': 0.03,\n",
        "    'Zr': 0.01\n",
        "}\n",
        "\n",
        "material_name = material_string(test_material, 'V')\n",
        "print(material_name)  # Output: V-2Cr-4Ti-3W-1Zr\n",
        "\n",
        "\n",
        "def create_material(comp_dict, material_name, bal_element = 'V', density = 6.11, percent_type = 'ao'):\n",
        "    new_material = openmc.Material()\n",
        "    new_material.set_density('g/cm3', density)\n",
        "    for element, percent in comp_dict.items():\n",
        "        new_material.add_element(element, percent, percent_type)\n",
        "    new_material.name = material_name\n",
        "    \n",
        "    return new_material\n",
        "\n",
        "new_material = create_material(test_material, material_name)\n",
        "print(new_material)\n"
      ]
    },
    {
      "cell_type": "code",
      "execution_count": null,
      "metadata": {},
      "outputs": [],
      "source": [
        "# make new material depletable \n",
        "new_material.depletable = True\n",
        "\n",
        "# add to materials\n",
        "model.materials.append(new_material)"
      ]
    },
    {
      "cell_type": "code",
      "execution_count": null,
      "metadata": {},
      "outputs": [
        {
          "data": {
            "text/plain": [
              "{2: Cell\n",
              " \tID             =\t2\n",
              " \tName           =\tfirst_wall\n",
              " \tFill           =\tMaterial 1\n",
              " \tRegion         =\t(-2 1)\n",
              " \tRotation       =\tNone\n",
              " \tTemperature    =\tNone\n",
              " \tTranslation    =\tNone\n",
              " \tVolume         =\tNone,\n",
              " 3: Cell\n",
              " \tID             =\t3\n",
              " \tName           =\tvessel\n",
              " \tFill           =\tMaterial 3\n",
              " \tRegion         =\t(-3 2)\n",
              " \tRotation       =\tNone\n",
              " \tTemperature    =\tNone\n",
              " \tTranslation    =\tNone\n",
              " \tVolume         =\tNone,\n",
              " 4: Cell\n",
              " \tID             =\t4\n",
              " \tName           =\tblanket\n",
              " \tFill           =\tMaterial 2\n",
              " \tRegion         =\t(-4 3)\n",
              " \tRotation       =\tNone\n",
              " \tTemperature    =\tNone\n",
              " \tTranslation    =\tNone\n",
              " \tVolume         =\tNone,\n",
              " 5: Cell\n",
              " \tID             =\t5\n",
              " \tName           =\ttank\n",
              " \tFill           =\tMaterial 4\n",
              " \tRegion         =\t(-5 4)\n",
              " \tRotation       =\tNone\n",
              " \tTemperature    =\tNone\n",
              " \tTranslation    =\tNone\n",
              " \tVolume         =\tNone,\n",
              " 6: Cell\n",
              " \tID             =\t6\n",
              " \tName           =\tshield\n",
              " \tFill           =\tMaterial 5\n",
              " \tRegion         =\t(-6 5)\n",
              " \tRotation       =\tNone\n",
              " \tTemperature    =\tNone\n",
              " \tTranslation    =\tNone\n",
              " \tVolume         =\tNone}"
            ]
          },
          "execution_count": 7,
          "metadata": {},
          "output_type": "execute_result"
        }
      ],
      "source": [
        "model.geometry.get_all_material_cells()"
      ]
    },
    {
      "cell_type": "code",
      "execution_count": null,
      "metadata": {},
      "outputs": [
        {
          "name": "stdout",
          "output_type": "stream",
          "text": [
            "Material\n",
            "\tID             =\t6\n",
            "\tName           =\tV-2Cr-4Ti-3W-1Zr\n",
            "\tTemperature    =\tNone\n",
            "\tDensity        =\t6.11 [g/cm3]\n",
            "\tVolume         =\t327780.54089851223 [cm^3]\n",
            "\tDepletable     =\tTrue\n",
            "\tS(a,b) Tables  \n",
            "\tNuclides       \n",
            "\tV50            =\t0.0022500000000000003 [ao]\n",
            "\tV51            =\t0.89775      [ao]\n",
            "\tCr50           =\t0.0008690000000000001 [ao]\n",
            "\tCr52           =\t0.0167578    [ao]\n",
            "\tCr53           =\t0.0019002    [ao]\n",
            "\tCr54           =\t0.000473     [ao]\n",
            "\tTi46           =\t0.0033000000000000004 [ao]\n",
            "\tTi47           =\t0.002976     [ao]\n",
            "\tTi48           =\t0.029488     [ao]\n",
            "\tTi49           =\t0.002164     [ao]\n",
            "\tTi50           =\t0.002072     [ao]\n",
            "\tW180           =\t3.5999999999999994e-05 [ao]\n",
            "\tW182           =\t0.00795      [ao]\n",
            "\tW183           =\t0.004293     [ao]\n",
            "\tW184           =\t0.009192     [ao]\n",
            "\tW186           =\t0.008529     [ao]\n",
            "\tZr90           =\t0.005144999999999999 [ao]\n",
            "\tZr91           =\t0.001122     [ao]\n",
            "\tZr92           =\t0.0017150000000000002 [ao]\n",
            "\tZr94           =\t0.0017380000000000002 [ao]\n",
            "\tZr96           =\t0.00028000000000000003 [ao]\n",
            "\n"
          ]
        }
      ],
      "source": [
        "cell_name = 'vessel'\n",
        "vv_cell = model.geometry.get_cells_by_name(cell_name)\n",
        "for mat in model.materials:\n",
        "    if mat.name == 'vcrtiwzr':\n",
        "        new_volume = mat.volume\n",
        "new_material.volume = new_volume\n",
        "vv_cell[0].fill = new_material\n",
        "print(vv_cell[0].fill)"
      ]
    },
    {
      "cell_type": "code",
      "execution_count": null,
      "metadata": {},
      "outputs": [
        {
          "name": "stdout",
          "output_type": "stream",
          "text": [
            "First material object: Material\n",
            "\tID             =\t6\n",
            "\tName           =\tV-2Cr-4Ti-3W-1Zr\n",
            "\tTemperature    =\tNone\n",
            "\tDensity        =\t6.11 [g/cm3]\n",
            "\tVolume         =\t327780.54089851223 [cm^3]\n",
            "\tDepletable     =\tTrue\n",
            "\tS(a,b) Tables  \n",
            "\tNuclides       \n",
            "\tV50            =\t0.0022500000000000003 [ao]\n",
            "\tV51            =\t0.89775      [ao]\n",
            "\tCr50           =\t0.0008690000000000001 [ao]\n",
            "\tCr52           =\t0.0167578    [ao]\n",
            "\tCr53           =\t0.0019002    [ao]\n",
            "\tCr54           =\t0.000473     [ao]\n",
            "\tTi46           =\t0.0033000000000000004 [ao]\n",
            "\tTi47           =\t0.002976     [ao]\n",
            "\tTi48           =\t0.029488     [ao]\n",
            "\tTi49           =\t0.002164     [ao]\n",
            "\tTi50           =\t0.002072     [ao]\n",
            "\tW180           =\t3.5999999999999994e-05 [ao]\n",
            "\tW182           =\t0.00795      [ao]\n",
            "\tW183           =\t0.004293     [ao]\n",
            "\tW184           =\t0.009192     [ao]\n",
            "\tW186           =\t0.008529     [ao]\n",
            "\tZr90           =\t0.005144999999999999 [ao]\n",
            "\tZr91           =\t0.001122     [ao]\n",
            "\tZr92           =\t0.0017150000000000002 [ao]\n",
            "\tZr94           =\t0.0017380000000000002 [ao]\n",
            "\tZr96           =\t0.00028000000000000003 [ao]\n",
            "\n"
          ]
        }
      ],
      "source": [
        "# To get the first value in a dictionary (e.g., an OpenMC material object), use next(iter(dict.values()))\n",
        "first_material = next(iter(vv_cell[0].get_all_materials().values()))\n",
        "print(\"First material object:\", first_material)"
      ]
    },
    {
      "cell_type": "markdown",
      "metadata": {},
      "source": [
        "## RUn the depletion with independent operator"
      ]
    },
    {
      "cell_type": "code",
      "execution_count": null,
      "metadata": {},
      "outputs": [
        {
          "name": "stdout",
          "output_type": "stream",
          "text": [
            "1.7731559870627162e+20\n"
          ]
        }
      ],
      "source": [
        "# calculate the source_rate \n",
        "POWER_MW = 500\n",
        "FUSION_POWER_MEV = 17.6\n",
        "MEV_TO_J = 1.602176634e-13\n",
        "SOURCE_RATE = POWER_MW * 1E6 / (FUSION_POWER_MEV * MEV_TO_J)\n",
        "print(SOURCE_RATE)"
      ]
    },
    {
      "cell_type": "code",
      "execution_count": null,
      "metadata": {},
      "outputs": [
        {
          "name": "stdout",
          "output_type": "stream",
          "text": [
            "([2629800.0, 2629800.0, 2629800.0, 2629800.0, 2629800.0, 2629800.0, 2629800.0, 2629800.0, 2629800.0, 2629800.0, 2629800.0, 2629800.0, 1209600.0, 30348000.0, 284018400.0, 2840184000.0], [1.7731559870627162e+20, 1.7731559870627162e+20, 1.7731559870627162e+20, 1.7731559870627162e+20, 1.7731559870627162e+20, 1.7731559870627162e+20, 1.7731559870627162e+20, 1.7731559870627162e+20, 1.7731559870627162e+20, 1.7731559870627162e+20, 1.7731559870627162e+20, 1.7731559870627162e+20, 0.0, 0.0, 0.0, 0.0])\n"
          ]
        }
      ],
      "source": [
        "from neutronics_calphad.neutronics.time_scheduler import TimeScheduler\n",
        "from neutronics_calphad.neutronics.depletion import run_independent_depletion\n",
        "\n",
        "cooling_times = ['2 weeks', '1 year', '10 years', '100 years']\n",
        "# create the time scheduler \n",
        "time_scheduler = TimeScheduler(irradiation_time='1 year',\n",
        "                               cooling_times=cooling_times,\n",
        "                               source_rate=SOURCE_RATE,\n",
        "                               irradiation_steps=12)\n",
        "\n",
        "\n",
        "print(time_scheduler.get_timesteps_and_source_rates())"
      ]
    },
    {
      "cell_type": "code",
      "execution_count": null,
      "metadata": {},
      "outputs": [
        {
          "data": {
            "text/plain": [
              "{1: Cell\n",
              " \tID             =\t1\n",
              " \tName           =\tcore\n",
              " \tFill           =\tNone\n",
              " \tRegion         =\t-1\n",
              " \tRotation       =\tNone\n",
              " \tTranslation    =\tNone\n",
              " \tVolume         =\tNone,\n",
              " 2: Cell\n",
              " \tID             =\t2\n",
              " \tName           =\tfirst_wall\n",
              " \tFill           =\tMaterial 1\n",
              " \tRegion         =\t(-2 1)\n",
              " \tRotation       =\tNone\n",
              " \tTemperature    =\tNone\n",
              " \tTranslation    =\tNone\n",
              " \tVolume         =\tNone,\n",
              " 3: Cell\n",
              " \tID             =\t3\n",
              " \tName           =\tvessel\n",
              " \tFill           =\tMaterial 6\n",
              " \tRegion         =\t(-3 2)\n",
              " \tRotation       =\tNone\n",
              " \tTemperature    =\tNone\n",
              " \tTranslation    =\tNone\n",
              " \tVolume         =\tNone,\n",
              " 4: Cell\n",
              " \tID             =\t4\n",
              " \tName           =\tblanket\n",
              " \tFill           =\tMaterial 2\n",
              " \tRegion         =\t(-4 3)\n",
              " \tRotation       =\tNone\n",
              " \tTemperature    =\tNone\n",
              " \tTranslation    =\tNone\n",
              " \tVolume         =\tNone,\n",
              " 5: Cell\n",
              " \tID             =\t5\n",
              " \tName           =\ttank\n",
              " \tFill           =\tMaterial 4\n",
              " \tRegion         =\t(-5 4)\n",
              " \tRotation       =\tNone\n",
              " \tTemperature    =\tNone\n",
              " \tTranslation    =\tNone\n",
              " \tVolume         =\tNone,\n",
              " 6: Cell\n",
              " \tID             =\t6\n",
              " \tName           =\tshield\n",
              " \tFill           =\tMaterial 5\n",
              " \tRegion         =\t(-6 5)\n",
              " \tRotation       =\tNone\n",
              " \tTemperature    =\tNone\n",
              " \tTranslation    =\tNone\n",
              " \tVolume         =\tNone,\n",
              " 7: Cell\n",
              " \tID             =\t7\n",
              " \tName           =\tvoid\n",
              " \tFill           =\tNone\n",
              " \tRegion         =\t(-7 6)\n",
              " \tRotation       =\tNone\n",
              " \tTranslation    =\tNone\n",
              " \tVolume         =\tNone}"
            ]
          },
          "execution_count": 12,
          "metadata": {},
          "output_type": "execute_result"
        }
      ],
      "source": [
        "import os\n",
        "cell_name = 'vessel'\n",
        "# get the index of the domain where the cell is cell_name\n",
        "model.geometry.get_all_cells()\n"
      ]
    },
    {
      "cell_type": "code",
      "execution_count": null,
      "metadata": {},
      "outputs": [
        {
          "name": "stdout",
          "output_type": "stream",
          "text": [
            "7\n",
            "2\n",
            "[0. 0. 0. ... 0. 0. 0.]\n",
            "7\n",
            "<openmc.deplete.microxs.MicroXS object at 0x7a4e8c061b50>\n"
          ]
        }
      ],
      "source": [
        "print(len(flux))\n",
        "# find the index of the cell in all_cells_list that has a name of 'vessel'\n",
        "vessel_cell_index = next(index for index, cell in enumerate(cells_list) if cell.name == 'vessel')\n",
        "print(vessel_cell_index)\n",
        "\n",
        "# get the flux for the vessel cell\n",
        "vessel_flux = flux[vessel_cell_index]\n",
        "print(vessel_flux)\n",
        "\n",
        "print(len(microxs))\n",
        "print(microxs[vessel_cell_index])"
      ]
    },
    {
      "cell_type": "code",
      "execution_count": null,
      "metadata": {},
      "outputs": [
        {
          "name": "stdout",
          "output_type": "stream",
          "text": [
            "Using material for depletion: V-2Cr-4Ti-3W-1Zr\n",
            "Running depletion with enhanced numerical stability settings...\n",
            "[openmc.deplete] t=0.0 s, dt=2629800.0 s, source=1.7731559870627162e+20\n"
          ]
        },
        {
          "name": "stdout",
          "output_type": "stream",
          "text": [
            "[openmc.deplete] t=2629800.0 s, dt=2629800.0 s, source=1.7731559870627162e+20\n",
            "[openmc.deplete] t=5259600.0 s, dt=2629800.0 s, source=1.7731559870627162e+20\n",
            "[openmc.deplete] t=7889400.0 s, dt=2629800.0 s, source=1.7731559870627162e+20\n",
            "[openmc.deplete] t=10519200.0 s, dt=2629800.0 s, source=1.7731559870627162e+20\n",
            "[openmc.deplete] t=13149000.0 s, dt=2629800.0 s, source=1.7731559870627162e+20\n",
            "[openmc.deplete] t=15778800.0 s, dt=2629800.0 s, source=1.7731559870627162e+20\n",
            "[openmc.deplete] t=18408600.0 s, dt=2629800.0 s, source=1.7731559870627162e+20\n",
            "[openmc.deplete] t=21038400.0 s, dt=2629800.0 s, source=1.7731559870627162e+20\n",
            "[openmc.deplete] t=23668200.0 s, dt=2629800.0 s, source=1.7731559870627162e+20\n",
            "[openmc.deplete] t=26298000.0 s, dt=2629800.0 s, source=1.7731559870627162e+20\n",
            "[openmc.deplete] t=28927800.0 s, dt=2629800.0 s, source=1.7731559870627162e+20\n",
            "[openmc.deplete] t=31557600.0 s, dt=1209600.0 s, source=0.0\n"
          ]
        },
        {
          "name": "stderr",
          "output_type": "stream",
          "text": [
            "/home/myless/.miniforge3/envs/neutronics_calphad/lib/python3.12/site-packages/uncertainties/core.py:1024: UserWarning: Using UFloat objects with std_dev==0 may give unexpected results.\n",
            "  warn(\"Using UFloat objects with std_dev==0 may give unexpected results.\")\n"
          ]
        },
        {
          "name": "stdout",
          "output_type": "stream",
          "text": [
            "[openmc.deplete] t=32767200.0 s, dt=30348000.0 s, source=0.0\n",
            "[openmc.deplete] t=63115200.0 s, dt=284018400.0 s, source=0.0\n",
            "[openmc.deplete] t=347133600.0 s, dt=2840184000.0 s, source=0.0\n",
            "[openmc.deplete] t=3187317600.0 (final operator evaluation)\n"
          ]
        }
      ],
      "source": [
        "\n",
        "results = run_independent_depletion(\n",
        "    model=model,\n",
        "    depletable_cell=cell_name,\n",
        "    microxs=microxs[vessel_cell_index],\n",
        "    flux=flux[vessel_cell_index],\n",
        "    chain_file=openmc.config['chain_file'],\n",
        "    timesteps=time_scheduler.get_timesteps_and_source_rates()[0],\n",
        "    source_rates=time_scheduler.get_timesteps_and_source_rates()[1],\n",
        "    outdir=os.path.join('depletion_results', material_name)\n",
        ")"
      ]
    },
    {
      "cell_type": "markdown",
      "metadata": {},
      "source": [
        "# calculating contact dose"
      ]
    },
    {
      "cell_type": "code",
      "execution_count": 2,
      "metadata": {},
      "outputs": [],
      "source": [
        "import openmc\n",
        "import openmc.deplete\n",
        "import os \n",
        "# check if the results variable exists \n",
        "# if it does not, read the results from the file\n",
        "\n",
        "\n",
        "#results_path = os.path.join('depletion_results', material_name, 'depletion_results.h5')\n",
        "results_path = '/home/myless/Packages/neutronics_calphad/examples/depletion_results/V-2Cr-4Ti-3W-1Zr/depletion_results.h5'\n",
        "if 'results' not in locals() or results is None:\n",
        "    if os.path.exists(results_path):\n",
        "        results = openmc.deplete.Results(results_path)\n",
        "    else:\n",
        "        raise FileNotFoundError(f\"Depletion results file not found at {results_path}\")"
      ]
    },
    {
      "cell_type": "code",
      "execution_count": null,
      "metadata": {},
      "outputs": [
        {
          "name": "stdout",
          "output_type": "stream",
          "text": [
            "n-001_H_002.endf: Warning, LTT (3) for elastic scattering, using Legendre only\n",
            "n-006_C_012.endf: Warning, LTT (3) for elastic scattering, using Legendre only\n"
          ]
        },
        {
          "name": "stderr",
          "output_type": "stream",
          "text": [
            "/home/myless/.miniforge3/envs/neutronics_calphad/lib/python3.12/site-packages/tqdm/auto.py:21: TqdmWarning: IProgress not found. Please update jupyter and ipywidgets. See https://ipywidgets.readthedocs.io/en/stable/user_install.html\n",
            "  from .autonotebook import tqdm as notebook_tqdm\n"
          ]
        },
        {
          "ename": "NameError",
          "evalue": "name 'new_material' is not defined",
          "output_type": "error",
          "traceback": [
            "\u001b[31m---------------------------------------------------------------------------\u001b[39m",
            "\u001b[31mNameError\u001b[39m                                 Traceback (most recent call last)",
            "\u001b[36mCell\u001b[39m\u001b[36m \u001b[39m\u001b[32mIn[3]\u001b[39m\u001b[32m, line 12\u001b[39m\n\u001b[32m      2\u001b[39m \u001b[38;5;28;01mfrom\u001b[39;00m\u001b[38;5;250m \u001b[39m\u001b[34;01mneutronics_calphad\u001b[39;00m\u001b[34;01m.\u001b[39;00m\u001b[34;01mneutronics\u001b[39;00m\u001b[34;01m.\u001b[39;00m\u001b[34;01mdose\u001b[39;00m\u001b[38;5;250m \u001b[39m\u001b[38;5;28;01mimport\u001b[39;00m contact_dose\n\u001b[32m      3\u001b[39m \u001b[38;5;28;01mfrom\u001b[39;00m\u001b[38;5;250m \u001b[39m\u001b[34;01mneutronics_calphad\u001b[39;00m\u001b[34;01m.\u001b[39;00m\u001b[34;01mneutronics\u001b[39;00m\u001b[34;01m.\u001b[39;00m\u001b[34;01mdepletion\u001b[39;00m\u001b[38;5;250m \u001b[39m\u001b[38;5;28;01mimport\u001b[39;00m extract_gas_production\n\u001b[32m     10\u001b[39m dose_rates = contact_dose(\n\u001b[32m     11\u001b[39m     results=results,\n\u001b[32m---> \u001b[39m\u001b[32m12\u001b[39m     material=\u001b[43mnew_material\u001b[49m,\n\u001b[32m     13\u001b[39m     chain_file=openmc.config[\u001b[33m'\u001b[39m\u001b[33mchain_file\u001b[39m\u001b[33m'\u001b[39m],\n\u001b[32m     14\u001b[39m     abs_file=\u001b[33m'\u001b[39m\u001b[33m/home/myless/Packages/fispact/nuclear_data/decay/abs_2012\u001b[39m\u001b[33m'\u001b[39m\n\u001b[32m     15\u001b[39m )\n\u001b[32m     17\u001b[39m \u001b[38;5;28mprint\u001b[39m(dose_rates)\n",
            "\u001b[31mNameError\u001b[39m: name 'new_material' is not defined"
          ]
        }
      ],
      "source": [
        "# calculate the dose rate at the specific time steps for that material \n",
        "from neutronics_calphad.neutronics.dose import contact_dose\n",
        "from neutronics_calphad.neutronics.depletion import extract_gas_production\n",
        "\n",
        "\n",
        "\n",
        "\n",
        "\n",
        "\n",
        "dose_rates = contact_dose(\n",
        "    results=results,\n",
        "    chain_file=openmc.config['chain_file'],\n",
        "    abs_file='/home/myless/Packages/fispact/nuclear_data/decay/abs_2012'\n",
        ")\n",
        "\n",
        "print(dose_rates)"
      ]
    },
    {
      "cell_type": "code",
      "execution_count": null,
      "metadata": {},
      "outputs": [
        {
          "data": {
            "image/png": "[encoded data removed]",
            "text/plain": [
              "<Figure size 800x600 with 1 Axes>"
            ]
          },
          "metadata": {},
          "output_type": "display_data"
        }
      ],
      "source": [
        "import matplotlib.pyplot as plt\n",
        "from typing import List, Tuple\n",
        "\n",
        "def plot_light_atom_numbers(\n",
        "    results: \"openmc.deplete.Results\",\n",
        "    material: \"openmc.Material\",\n",
        "    atom_types: List[str]\n",
        ") -> None:\n",
        "    \"\"\"\n",
        "    Plot the number of atoms for each specified light atom on a log scale\n",
        "    for all time steps.\n",
        "\n",
        "    Args:\n",
        "        results: The OpenMC depletion results object.\n",
        "        material: The material for which to extract atom numbers.\n",
        "        atom_types: List of nuclide names (e.g., ['H1', 'H2', 'H3', 'He4']).\n",
        "    \"\"\"\n",
        "    plt.figure(figsize=(8, 6))\n",
        "    for atom in atom_types:\n",
        "        times, numbers = results.get_atoms(material, atom)\n",
        "        plt.plot(times / (3600 * 24 * 365.25), numbers, label=atom)  # Convert seconds to years\n",
        "\n",
        "    plt.yscale('log')\n",
        "    plt.xlabel('Time (years)')\n",
        "    plt.ylabel('Number of atoms')\n",
        "    plt.title('Evolution of Light Atom Numbers')\n",
        "    plt.legend()\n",
        "    plt.grid(True, which=\"both\", ls=\"--\", lw=0.5)\n",
        "    plt.tight_layout()\n",
        "    plt.show()\n",
        "\n",
        "light_atoms = ['H1', 'H2', 'H3', 'He4']\n",
        "plot_light_atom_numbers(results, new_material, light_atoms)"
      ]
    },
    {
      "cell_type": "code",
      "execution_count": null,
      "metadata": {},
      "outputs": [
        {
          "ename": "FileNotFoundError",
          "evalue": "[Errno 2] No such file or directory: 'critical.json'",
          "output_type": "error",
          "traceback": [
            "\u001b[31m---------------------------------------------------------------------------\u001b[39m",
            "\u001b[31mFileNotFoundError\u001b[39m                         Traceback (most recent call last)",
            "\u001b[36mCell\u001b[39m\u001b[36m \u001b[39m\u001b[32mIn[64]\u001b[39m\u001b[32m, line 1\u001b[39m\n\u001b[32m----> \u001b[39m\u001b[32m1\u001b[39m \u001b[38;5;28;01mfrom\u001b[39;00m\u001b[38;5;250m \u001b[39m\u001b[34;01mneutronics_calphad\u001b[39;00m\u001b[34;01m.\u001b[39;00m\u001b[34;01moptimizer\u001b[39;00m\u001b[34;01m.\u001b[39;00m\u001b[34;01mevaluate_updated\u001b[39;00m\u001b[38;5;250m \u001b[39m\u001b[38;5;28;01mimport\u001b[39;00m evaluate_material\n\u001b[32m      3\u001b[39m evaluate_material(results)\n",
            "\u001b[36mFile \u001b[39m\u001b[32m~/Packages/neutronics_calphad/neutronics_calphad/optimizer/evaluate_updated.py:11\u001b[39m\n\u001b[32m      8\u001b[39m \u001b[38;5;28;01mimport\u001b[39;00m\u001b[38;5;250m \u001b[39m\u001b[34;01mopenmc\u001b[39;00m\n\u001b[32m      9\u001b[39m \u001b[38;5;28;01mimport\u001b[39;00m\u001b[38;5;250m \u001b[39m\u001b[34;01mopenmc\u001b[39;00m\u001b[34;01m.\u001b[39;00m\u001b[34;01mdeplete\u001b[39;00m\n\u001b[32m---> \u001b[39m\u001b[32m11\u001b[39m CRITICAL_GAS_LIMITS = json.load(\u001b[38;5;28;43mopen\u001b[39;49m\u001b[43m(\u001b[49m\u001b[33;43m'\u001b[39;49m\u001b[33;43mcritical.json\u001b[39;49m\u001b[33;43m'\u001b[39;49m\u001b[43m)\u001b[49m)\n\u001b[32m     13\u001b[39m DOSE_LIMITS = {\n\u001b[32m     14\u001b[39m      \u001b[32m14\u001b[39m : \u001b[32m1e2\u001b[39m,\n\u001b[32m     15\u001b[39m      \u001b[32m365\u001b[39m : \u001b[32m1e-2\u001b[39m,\n\u001b[32m     16\u001b[39m      \u001b[32m365\u001b[39m*\u001b[32m10\u001b[39m : \u001b[32m1e-2\u001b[39m,\n\u001b[32m     17\u001b[39m      \u001b[32m365\u001b[39m*\u001b[32m100\u001b[39m : \u001b[32m1e-4\u001b[39m\n\u001b[32m     18\u001b[39m }\n\u001b[32m     20\u001b[39m \u001b[38;5;28;01mdef\u001b[39;00m\u001b[38;5;250m \u001b[39m\u001b[34mevaluate_material\u001b[39m(\n\u001b[32m     21\u001b[39m                       results: openmc.deplete.Results,\n\u001b[32m     22\u001b[39m                       chain_file = openmc.config[\u001b[33m'\u001b[39m\u001b[33mchain_file\u001b[39m\u001b[33m'\u001b[39m],\n\u001b[32m     23\u001b[39m                       critical_gas_limits: \u001b[38;5;28mdict\u001b[39m = CRITICAL_GAS_LIMITS,\n\u001b[32m     24\u001b[39m                       dose_limits: \u001b[38;5;28mdict\u001b[39m = DOSE_LIMITS) -> \u001b[38;5;28mfloat\u001b[39m:\n",
            "\u001b[31mFileNotFoundError\u001b[39m: [Errno 2] No such file or directory: 'critical.json'"
          ]
        }
      ],
      "source": [
        "from neutronics_calphad.optimizer.evaluate_updated import evaluate_material\n",
        "\n",
        "evaluate_material(results)"
      ]
    },
    {
      "cell_type": "code",
      "execution_count": null,
      "metadata": {},
      "outputs": [],
      "source": []
    }
  ],
  "metadata": {
    "kernelspec": {
      "display_name": "neutronics_calphad",
      "language": "python",
      "name": "python3"
    },
    "language_info": {
      "codemirror_mode": {
        "name": "ipython",
        "version": 3
      },
      "file_extension": ".py",
      "mimetype": "text/x-python",
      "name": "python",
      "nbconvert_exporter": "python",
      "pygments_lexer": "ipython3",
      "version": "3.12.2"
    }
  },
  "nbformat": 4,
  "nbformat_minor": 2
}
