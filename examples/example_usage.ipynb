{
  "cells": [
    {
      "cell_type": "markdown",
      "metadata": {
        "vscode": {
          "languageId": "raw"
        }
      },
      "source": [
        "# Neutronics CALPHAD Example Usage\n",
        "\n",
        "This notebook demonstrates how to use the `neutronics_calphad` package for tokamak neutronics simulations and alloy optimization.\n"
      ]
    },
    {
      "cell_type": "markdown",
      "metadata": {
        "vscode": {
          "languageId": "raw"
        }
      },
      "source": [
        "## Setup\n",
        "\n",
        "First, import the package and check that everything is working:\n"
      ]
    },
    {
      "cell_type": "code",
      "execution_count": 1,
      "metadata": {},
      "outputs": [
        {
          "name": "stdout",
          "output_type": "stream",
          "text": [
            "n-001_H_002.endf: Warning, LTT (3) for elastic scattering, using Legendre only\n",
            "n-006_C_012.endf: Warning, LTT (3) for elastic scattering, using Legendre only\n",
            "Warning: Library file elem_lib/V/V.h5 not found. Run 'neutronics-calphad build-library' first.\n",
            "Warning: Library file elem_lib/Cr/Cr.h5 not found. Run 'neutronics-calphad build-library' first.\n",
            "Warning: Library file elem_lib/Ti/Ti.h5 not found. Run 'neutronics-calphad build-library' first.\n",
            "Warning: Library file elem_lib/W/W.h5 not found. Run 'neutronics-calphad build-library' first.\n",
            "Warning: Library file elem_lib/Zr/Zr.h5 not found. Run 'neutronics-calphad build-library' first.\n"
          ]
        },
        {
          "name": "stderr",
          "output_type": "stream",
          "text": [
            "/home/myless/.miniforge3/envs/neutronics_calphad/lib/python3.12/site-packages/tqdm/auto.py:21: TqdmWarning: IProgress not found. Please update jupyter and ipywidgets. See https://ipywidgets.readthedocs.io/en/stable/user_install.html\n",
            "  from .autonotebook import tqdm as notebook_tqdm\n"
          ]
        },
        {
          "name": "stdout",
          "output_type": "stream",
          "text": [
            "Package version: 0.1.0\n",
            "Available elements: ['V', 'Cr', 'Ti', 'W', 'Zr']\n"
          ]
        }
      ],
      "source": [
        "import neutronics_calphad as nc\n",
        "import numpy as np\n",
        "import matplotlib.pyplot as plt\n",
        "\n",
        "print(f\"Package version: {nc.__version__}\")\n",
        "print(f\"Available elements: {nc.ELMS}\")\n"
      ]
    },
    {
      "cell_type": "markdown",
      "metadata": {
        "vscode": {
          "languageId": "raw"
        }
      },
      "source": [
        "## 1. Create and Visualize Tokamak Geometry\n",
        "\n",
        "Let's create a tokamak model with a vanadium vacuum vessel:\n"
      ]
    },
    {
      "cell_type": "code",
      "execution_count": null,
      "metadata": {},
      "outputs": [],
      "source": [
        "# Create a model with vanadium vacuum vessel\n",
        "model = nc.create_model('V')\n",
        "\n",
        "print(\"Model created successfully!\")\n",
        "print(f\"Number of materials: {len(model.materials)}\")\n",
        "print(f\"Number of cells: {len(model.geometry.get_all_cells())}\")\n"
      ]
    }
  ],
  "metadata": {
    "kernelspec": {
      "display_name": "neutronics_calphad",
      "language": "python",
      "name": "python3"
    },
    "language_info": {
      "codemirror_mode": {
        "name": "ipython",
        "version": 3
      },
      "file_extension": ".py",
      "mimetype": "text/x-python",
      "name": "python",
      "nbconvert_exporter": "python",
      "pygments_lexer": "ipython3",
      "version": "3.12.2"
    }
  },
  "nbformat": 4,
  "nbformat_minor": 2
}
